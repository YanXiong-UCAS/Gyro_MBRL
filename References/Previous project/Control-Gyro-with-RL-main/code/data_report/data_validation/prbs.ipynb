{
 "cells": [
  {
   "cell_type": "code",
   "execution_count": 1,
   "metadata": {},
   "outputs": [],
   "source": [
    "import numpy as np"
   ]
  },
  {
   "cell_type": "code",
   "execution_count": 2,
   "metadata": {},
   "outputs": [],
   "source": [
    "def prbs(n, p):\n",
    "    \n",
    "    # n: shift register length\n",
    "    # p: number of periods in signal\n",
    "\n",
    "    u = np.ones([2**n-1]).astype(int)\n",
    "    q = np.array([0,1,2,1,2,1,1,0,4,3]);\n",
    "\n",
    "    if n > 10:\n",
    "        print('Maximum allowable value for n is 10')\n",
    "        #break\n",
    "    if n < 2:\n",
    "        print('Minimum allowable value for n is 2')\n",
    "        #break\n",
    "\n",
    "    if n == 8:\n",
    "        for i in range(n,2**n-1):\n",
    "            u[i] = (u[i-n]^u[i-n+1])^(u[i-n+2]^u[i-n+7])\n",
    "    else:\n",
    "        for i in range(n,2**n-1):\n",
    "            u[i] = u[i-n]^u[i-n+q[n-1]]\n",
    "\n",
    "    u = 2*u - 1\n",
    "    u = np.tile(u, p)\n",
    "\n",
    "    return u"
   ]
  },
  {
   "cell_type": "code",
   "execution_count": 3,
   "metadata": {},
   "outputs": [],
   "source": [
    "# MATLAB code for PRBS signal\n",
    "\n",
    "# function u=prbs(n,p,uinit)\n",
    "\n",
    "# % u=prbs(n,p)\n",
    "# % n: shift register length\n",
    "# % p: number of periods in signal\n",
    "\n",
    "# if nargin<3, uinit=ones(1,n);end\n",
    "    \n",
    "# u=uinit;\n",
    "\n",
    "# q=[0,1,2,1,2,1,1,0,4,3];\n",
    "\n",
    "# if n > 10, error('Maximum allowable value for n is 10');end\n",
    "# if n < 2, error('Minimum allowable value for n is 2');end\n",
    "# if n==8, \n",
    "#    for i=n+1:2^n-1, u(i)=xor(xor(u(i-n),u(i-n+1)),xor(u(i-n+2),u(i-n+7)));end\n",
    "# else\n",
    "#     for i=n+1:2^n-1, u(i)=xor(u(i-n),u(i-n+q(n)));end\n",
    "# end\n",
    "\n",
    "# u1=[];\n",
    "# for i=1:p, u1=[u,u1];end\n",
    "\n",
    "# u=2*(u1-0.5)';"
   ]
  },
  {
   "cell_type": "code",
   "execution_count": null,
   "metadata": {},
   "outputs": [],
   "source": []
  }
 ],
 "metadata": {
  "kernelspec": {
   "display_name": "Python 3",
   "language": "python",
   "name": "python3"
  },
  "language_info": {
   "codemirror_mode": {
    "name": "ipython",
    "version": 3
   },
   "file_extension": ".py",
   "mimetype": "text/x-python",
   "name": "python",
   "nbconvert_exporter": "python",
   "pygments_lexer": "ipython3",
   "version": "3.7.9"
  }
 },
 "nbformat": 4,
 "nbformat_minor": 4
}
