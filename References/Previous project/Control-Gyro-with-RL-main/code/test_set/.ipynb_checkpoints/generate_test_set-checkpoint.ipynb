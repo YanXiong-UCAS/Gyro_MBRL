{
 "cells": [
  {
   "cell_type": "markdown",
   "metadata": {},
   "source": [
    "# Generate a test set with 10k random initial states"
   ]
  },
  {
   "cell_type": "code",
   "execution_count": 1,
   "metadata": {},
   "outputs": [],
   "source": [
    "import gym\n",
    "from gym import spaces\n",
    "from gym.utils import seeding\n",
    "import numpy as np\n",
    "from os import path\n",
    "from scipy.integrate import solve_ivp\n",
    "\n",
    "import gym_gyroscope_env\n",
    "import spinup\n",
    "import torch\n",
    "from functools import partial\n",
    "\n",
    "from custom_functions.custom_functions import env_fn \n",
    "from custom_functions.custom_functions import create_env\n",
    "from custom_functions.custom_functions import load_agent\n",
    "from custom_functions.custom_functions import test_agent\n",
    "from custom_functions.custom_functions import plot_test\n",
    "from custom_functions.custom_functions import evaluate_control\n",
    "\n",
    "import matplotlib.pyplot as plt\n",
    "%matplotlib inline"
   ]
  },
  {
   "cell_type": "code",
   "execution_count": 3,
   "metadata": {},
   "outputs": [],
   "source": [
    "env_name = 'GyroscopeEnv-v1'\n",
    "env = create_env(env_name,state=None)"
   ]
  },
  {
   "cell_type": "code",
   "execution_count": 4,
   "metadata": {},
   "outputs": [],
   "source": [
    "states = np.zeros([10000,7])\n",
    "for i in range(10000):\n",
    "    states[i] = env.state_space.sample()\n",
    "# np.savetxt(\"states10k_validation.csv\", states, delimiter=\",\")"
   ]
  },
  {
   "cell_type": "code",
   "execution_count": 10,
   "metadata": {},
   "outputs": [
    {
     "data": {
      "image/png": "[encoded data removed]",
      "text/plain": [
       "<Figure size 432x288 with 1 Axes>"
      ]
     },
     "metadata": {
      "needs_background": "light"
     },
     "output_type": "display_data"
    }
   ],
   "source": [
    "# distribution of w\n",
    "states = np.genfromtxt('states10k.csv', delimiter=',')\n",
    "plt.title('Distribution of disk speed in test set',fontsize=20)\n",
    "plt.xlabel('Disk speed [rad/s]',fontsize=16)\n",
    "plt.ylabel('Number of state',fontsize=16)\n",
    "plt.grid()\n",
    "plt.hist(states[:,-1], bins=50)\n",
    "# plt.savefig('disk_speed.png')\n",
    "plt.show()"
   ]
  },
  {
   "cell_type": "markdown",
   "metadata": {},
   "source": [
    "## Test FL controller as a baseline"
   ]
  },
  {
   "cell_type": "code",
   "execution_count": 6,
   "metadata": {},
   "outputs": [],
   "source": [
    "import gym\n",
    "from gym import spaces\n",
    "from gym.utils import seeding\n",
    "import numpy as np\n",
    "from os import path\n",
    "from scipy.integrate import solve_ivp\n",
    "\n",
    "import gym_gyroscope_env\n",
    "import spinup\n",
    "import torch\n",
    "from functools import partial\n",
    "\n",
    "from custom_functions.custom_functions import env_fn \n",
    "from custom_functions.custom_functions import create_env\n",
    "from custom_functions.custom_functions import load_agent\n",
    "from custom_functions.custom_functions import test_agent\n",
    "from custom_functions.custom_functions import plot_test\n",
    "from custom_functions.custom_functions import evaluate_control\n",
    "\n",
    "import random\n",
    "from collections import deque\n",
    "import time\n",
    "\n",
    "# Env\n",
    "env_name = 'GyroscopeEnv-v0'\n",
    "env = create_env(env_name)\n",
    "\n",
    "# num and set\n",
    "num_test = 10000\n",
    "states = np.genfromtxt('states10k.csv', delimiter=',')\n",
    "\n",
    "# Init dataframe\n",
    "agent_path = 'linearized controller'\n",
    "t_end = 10\n",
    "ss_bound = 0.25\n",
    "\n",
    "agent = load_agent(agent_path)\n",
    "metrics = evaluate_control(env,agent,agent_path,t_end,ss_bound,num_test,states)\n",
    "        \n",
    "metrics_man = metrics.transpose()\n",
    "metrics_man = metrics_man.round(4)\n",
    "\n",
    "metrics_man.to_csv('Metrics_FL.csv',index=True)"
   ]
  },
  {
   "cell_type": "code",
   "execution_count": null,
   "metadata": {},
   "outputs": [],
   "source": []
  },
  {
   "cell_type": "code",
   "execution_count": 8,
   "metadata": {},
   "outputs": [],
   "source": [
    "# import pandas as pd\n",
    "# metrics = pd.read_csv('Metrics_FL.csv')\n",
    "# metrics\n",
    "# print(metrics.to_latex(index=False))"
   ]
  }
 ],
 "metadata": {
  "kernelspec": {
   "display_name": "Python 3",
   "language": "python",
   "name": "python3"
  },
  "language_info": {
   "codemirror_mode": {
    "name": "ipython",
    "version": 3
   },
   "file_extension": ".py",
   "mimetype": "text/x-python",
   "name": "python",
   "nbconvert_exporter": "python",
   "pygments_lexer": "ipython3",
   "version": "3.7.9"
  }
 },
 "nbformat": 4,
 "nbformat_minor": 4
}
