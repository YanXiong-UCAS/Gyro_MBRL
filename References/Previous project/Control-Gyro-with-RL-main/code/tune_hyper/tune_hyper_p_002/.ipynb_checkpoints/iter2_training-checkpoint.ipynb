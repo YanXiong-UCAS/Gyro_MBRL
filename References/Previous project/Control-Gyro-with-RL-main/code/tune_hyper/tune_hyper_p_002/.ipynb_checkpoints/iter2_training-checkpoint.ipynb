{
 "cells": [
  {
   "cell_type": "markdown",
   "metadata": {
    "colab_type": "text",
    "id": "x83dMPapQBN6"
   },
   "source": [
    "# DDPG hyperparameter search with p=0.05 reward"
   ]
  },
  {
   "cell_type": "code",
   "execution_count": 1,
   "metadata": {
    "colab": {},
    "colab_type": "code",
    "id": "fuJhdd479TpP"
   },
   "outputs": [],
   "source": [
    "import gym\n",
    "from gym import spaces\n",
    "from gym.utils import seeding\n",
    "import numpy as np\n",
    "from os import path\n",
    "from scipy.integrate import solve_ivp\n",
    "\n",
    "import gym_gyroscope_env\n",
    "import spinup\n",
    "import torch\n",
    "from functools import partial\n",
    "\n",
    "from custom_functions.custom_functions import env_fn \n",
    "from custom_functions.custom_functions import create_env\n",
    "from custom_functions.custom_functions import load_agent\n",
    "from custom_functions.custom_functions import test_agent\n",
    "from custom_functions.custom_functions import plot_test\n",
    "from custom_functions.custom_functions import evaluate_control"
   ]
  },
  {
   "cell_type": "markdown",
   "metadata": {
    "colab_type": "text",
    "id": "be0wYIeBQBOc"
   },
   "source": [
    "## Baseline"
   ]
  },
  {
   "cell_type": "code",
   "execution_count": null,
   "metadata": {},
   "outputs": [],
   "source": [
    "# Env function\n",
    "env_name = 'GyroscopeEnv-v1'\n",
    "simu_args = {\n",
    "    'dt': 0.02,\n",
    "    'ep_len': 250,\n",
    "    'seed': 2\n",
    "}\n",
    "reward_func = 'Power'\n",
    "reward_args = {\n",
    "    'qx1': 1, \n",
    "    'qx2': 0, \n",
    "    'qx3': 1, \n",
    "    'qx4': 0, \n",
    "    'pu1': 0.15, \n",
    "    'pu2': 0.15,\n",
    "    'p': 0.05\n",
    "}\n",
    "env_fn_ = partial(env_fn, env_name, simu_args = simu_args, reward_func = reward_func, reward_args = reward_args)\n",
    "\n",
    "# Baseline 0 training\n",
    "spinup.ddpg_pytorch(env_fn_, \n",
    "                    ac_kwargs = dict(hidden_sizes=[128,32], activation=torch.nn.ReLU), \n",
    "                    seed = 0, \n",
    "                    steps_per_epoch = 3750, \n",
    "                    epochs = 2000, \n",
    "                    replay_size = 4000000, \n",
    "                    gamma = 0.94, \n",
    "                    polyak = 0.999, \n",
    "                    pi_lr = 0.001,\n",
    "                    q_lr = 0.001,\n",
    "                    batch_size = 200, \n",
    "                    start_steps = 5000,\n",
    "                    act_noise = 0.125,\n",
    "                    max_ep_len = 250, \n",
    "                    logger_kwargs = dict(output_dir='iter2_base', exp_name='iter2_base'))"
   ]
  },
  {
   "cell_type": "markdown",
   "metadata": {},
   "source": [
    "## Reward tuning"
   ]
  },
  {
   "cell_type": "code",
   "execution_count": null,
   "metadata": {},
   "outputs": [],
   "source": [
    "# Env function\n",
    "env_name = 'GyroscopeEnv-v1'\n",
    "simu_args = {\n",
    "    'dt': 0.02,\n",
    "    'ep_len': 250,\n",
    "    'seed': 2\n",
    "}\n",
    "reward_func = 'Power'\n",
    "reward_args = {\n",
    "    'qx1': 1, \n",
    "    'qx2': 0, \n",
    "    'qx3': 1, \n",
    "    'qx4': 0, \n",
    "    'pu1': 0.2, \n",
    "    'pu2': 0.2,\n",
    "    'p': 0.05\n",
    "}\n",
    "env_fn_ = partial(env_fn, env_name, simu_args = simu_args, reward_func = reward_func, reward_args = reward_args)\n",
    "\n",
    "# Baseline 0 training\n",
    "spinup.ddpg_pytorch(env_fn_, \n",
    "                    ac_kwargs = dict(hidden_sizes=[128,32], activation=torch.nn.ReLU), \n",
    "                    seed = 0, \n",
    "                    steps_per_epoch = 3750, \n",
    "                    epochs = 2000, \n",
    "                    replay_size = 4000000, \n",
    "                    gamma = 0.94, \n",
    "                    polyak = 0.999, \n",
    "                    pi_lr = 0.001,\n",
    "                    q_lr = 0.001,\n",
    "                    batch_size = 200, \n",
    "                    start_steps = 5000,\n",
    "                    act_noise = 0.125,\n",
    "                    max_ep_len = 250, \n",
    "                    logger_kwargs = dict(output_dir='iter2_reward01', exp_name='iter2_reward01'))"
   ]
  },
  {
   "cell_type": "code",
   "execution_count": null,
   "metadata": {},
   "outputs": [],
   "source": [
    "# Env function\n",
    "env_name = 'GyroscopeEnv-v1'\n",
    "simu_args = {\n",
    "    'dt': 0.02,\n",
    "    'ep_len': 250,\n",
    "    'seed': 2\n",
    "}\n",
    "reward_func = 'Power'\n",
    "reward_args = {\n",
    "    'qx1': 1, \n",
    "    'qx2': 0, \n",
    "    'qx3': 1, \n",
    "    'qx4': 0, \n",
    "    'pu1': 0.3, \n",
    "    'pu2': 0.3,\n",
    "    'p': 0.05\n",
    "}\n",
    "env_fn_ = partial(env_fn, env_name, simu_args = simu_args, reward_func = reward_func, reward_args = reward_args)\n",
    "\n",
    "# Baseline 0 training\n",
    "spinup.ddpg_pytorch(env_fn_, \n",
    "                    ac_kwargs = dict(hidden_sizes=[128,32], activation=torch.nn.ReLU), \n",
    "                    seed = 0, \n",
    "                    steps_per_epoch = 3750, \n",
    "                    epochs = 2000, \n",
    "                    replay_size = 4000000, \n",
    "                    gamma = 0.94, \n",
    "                    polyak = 0.999, \n",
    "                    pi_lr = 0.001,\n",
    "                    q_lr = 0.001,\n",
    "                    batch_size = 200, \n",
    "                    start_steps = 5000,\n",
    "                    act_noise = 0.125,\n",
    "                    max_ep_len = 250, \n",
    "                    logger_kwargs = dict(output_dir='iter2_reward02', exp_name='iter2_reward02'))"
   ]
  },
  {
   "cell_type": "code",
   "execution_count": null,
   "metadata": {},
   "outputs": [],
   "source": [
    "# Env function\n",
    "env_name = 'GyroscopeEnv-v1'\n",
    "simu_args = {\n",
    "    'dt': 0.02,\n",
    "    'ep_len': 250,\n",
    "    'seed': 2\n",
    "}\n",
    "reward_func = 'Power'\n",
    "reward_args = {\n",
    "    'qx1': 1, \n",
    "    'qx2': 0, \n",
    "    'qx3': 1, \n",
    "    'qx4': 0, \n",
    "    'pu1': 0.4, \n",
    "    'pu2': 0.4,\n",
    "    'p': 0.05\n",
    "}\n",
    "env_fn_ = partial(env_fn, env_name, simu_args = simu_args, reward_func = reward_func, reward_args = reward_args)\n",
    "\n",
    "# Baseline 0 training\n",
    "spinup.ddpg_pytorch(env_fn_, \n",
    "                    ac_kwargs = dict(hidden_sizes=[128,32], activation=torch.nn.ReLU), \n",
    "                    seed = 0, \n",
    "                    steps_per_epoch = 3750, \n",
    "                    epochs = 2000, \n",
    "                    replay_size = 4000000, \n",
    "                    gamma = 0.94, \n",
    "                    polyak = 0.999, \n",
    "                    pi_lr = 0.001,\n",
    "                    q_lr = 0.001,\n",
    "                    batch_size = 200, \n",
    "                    start_steps = 5000,\n",
    "                    act_noise = 0.125,\n",
    "                    max_ep_len = 250, \n",
    "                    logger_kwargs = dict(output_dir='iter2_reward03', exp_name='iter2_reward03'))"
   ]
  },
  {
   "cell_type": "code",
   "execution_count": null,
   "metadata": {},
   "outputs": [],
   "source": [
    "# Env function\n",
    "env_name = 'GyroscopeEnv-v1'\n",
    "simu_args = {\n",
    "    'dt': 0.02,\n",
    "    'ep_len': 250,\n",
    "    'seed': 2\n",
    "}\n",
    "reward_func = 'Power'\n",
    "reward_args = {\n",
    "    'qx1': 1, \n",
    "    'qx2': 0.1, \n",
    "    'qx3': 1, \n",
    "    'qx4': 0.1, \n",
    "    'pu1': 0.2, \n",
    "    'pu2': 0.2,\n",
    "    'p': 0.05\n",
    "}\n",
    "env_fn_ = partial(env_fn, env_name, simu_args = simu_args, reward_func = reward_func, reward_args = reward_args)\n",
    "\n",
    "# Baseline 0 training\n",
    "spinup.ddpg_pytorch(env_fn_, \n",
    "                    ac_kwargs = dict(hidden_sizes=[128,32], activation=torch.nn.ReLU), \n",
    "                    seed = 0, \n",
    "                    steps_per_epoch = 3750, \n",
    "                    epochs = 2000, \n",
    "                    replay_size = 4000000, \n",
    "                    gamma = 0.94, \n",
    "                    polyak = 0.999, \n",
    "                    pi_lr = 0.001,\n",
    "                    q_lr = 0.001,\n",
    "                    batch_size = 200, \n",
    "                    start_steps = 5000,\n",
    "                    act_noise = 0.125,\n",
    "                    max_ep_len = 250, \n",
    "                    logger_kwargs = dict(output_dir='iter2_reward04', exp_name='iter2_reward04'))"
   ]
  },
  {
   "cell_type": "markdown",
   "metadata": {},
   "source": [
    "## Replay size"
   ]
  },
  {
   "cell_type": "markdown",
   "metadata": {},
   "source": [
    "## Discount factor gamma"
   ]
  },
  {
   "cell_type": "markdown",
   "metadata": {},
   "source": [
    "## Polyak"
   ]
  },
  {
   "cell_type": "markdown",
   "metadata": {},
   "source": [
    "## Learning rate "
   ]
  },
  {
   "cell_type": "markdown",
   "metadata": {},
   "source": [
    "## Batch size"
   ]
  },
  {
   "cell_type": "markdown",
   "metadata": {},
   "source": [
    "## Start size"
   ]
  },
  {
   "cell_type": "markdown",
   "metadata": {},
   "source": [
    "## Act noise"
   ]
  },
  {
   "cell_type": "markdown",
   "metadata": {},
   "source": [
    "## Final model\n",
    "#### But change epochs from 2k to 5k"
   ]
  }
 ],
 "metadata": {
  "accelerator": "GPU",
  "colab": {
   "collapsed_sections": [],
   "name": "gyroscope_ddpg_testing.ipynb",
   "provenance": []
  },
  "kernelspec": {
   "display_name": "Python 3",
   "language": "python",
   "name": "python3"
  },
  "language_info": {
   "codemirror_mode": {
    "name": "ipython",
    "version": 3
   },
   "file_extension": ".py",
   "mimetype": "text/x-python",
   "name": "python",
   "nbconvert_exporter": "python",
   "pygments_lexer": "ipython3",
   "version": "3.7.9"
  }
 },
 "nbformat": 4,
 "nbformat_minor": 4
}
