{
 "cells": [
  {
   "cell_type": "markdown",
   "metadata": {
    "colab_type": "text",
    "id": "x83dMPapQBN6"
   },
   "source": [
    "# Gyroscope DDPG reward function traing (spinup library)"
   ]
  },
  {
   "cell_type": "code",
   "execution_count": null,
   "metadata": {
    "colab": {},
    "colab_type": "code",
    "id": "fuJhdd479TpP"
   },
   "outputs": [],
   "source": [
    "import gym\n",
    "from gym import spaces\n",
    "from gym.utils import seeding\n",
    "import numpy as np\n",
    "from os import path\n",
    "from scipy.integrate import solve_ivp\n",
    "\n",
    "import gym_gyroscope_env\n",
    "import spinup\n",
    "import torch\n",
    "from functools import partial\n",
    "\n",
    "from custom_functions.custom_functions import env_fn \n",
    "from custom_functions.custom_functions import create_env\n",
    "from custom_functions.custom_functions import load_agent\n",
    "from custom_functions.custom_functions import test_agent\n",
    "from custom_functions.custom_functions import plot_test\n",
    "from custom_functions.custom_functions import evaluate_control"
   ]
  },
  {
   "cell_type": "markdown",
   "metadata": {},
   "source": [
    "#### Quadratic reward"
   ]
  },
  {
   "cell_type": "code",
   "execution_count": null,
   "metadata": {
    "colab": {
     "base_uri": "https://localhost:8080/",
     "height": 533
    },
    "colab_type": "code",
    "executionInfo": {
     "elapsed": 654004,
     "status": "error",
     "timestamp": 1584037207187,
     "user": {
      "displayName": "Matthieu Le Cauchois",
      "photoUrl": "https://lh3.googleusercontent.com/a-/AOh14GgY9gRlHHK-FHlINeRnTJw_wewJsr639GH8MAWl=s64",
      "userId": "10992927378504656501"
     },
     "user_tz": -60
    },
    "id": "fLyFHs0yQBOd",
    "outputId": "260489ff-5e40-416a-e529-5a0cfcaefceb",
    "scrolled": true
   },
   "outputs": [],
   "source": [
    "# Env function\n",
    "env_name = 'GyroscopeIntegralEnv-v0'\n",
    "simu_args = {\n",
    "    'dt': 0.05,\n",
    "    'ep_len': 100,\n",
    "    'seed': 2\n",
    "}\n",
    "reward_func = 'Quadratic'\n",
    "reward_args = {\n",
    "    'qx1': 9, \n",
    "    'qx2': 0.05, \n",
    "    'qx3': 9, \n",
    "    'qx4': 0.05, \n",
    "    'qi1': 0,\n",
    "    'qi3': 0,\n",
    "    'pu1': 0.1, \n",
    "    'pu2': 0.1\n",
    "}\n",
    "env_fn_ = partial(env_fn, env_name, simu_args = simu_args, reward_func = reward_func, reward_args = reward_args)\n",
    "\n",
    "# Baseline 0 training\n",
    "spinup.ddpg_pytorch(env_fn_, \n",
    "                    ac_kwargs = dict(hidden_sizes=[128,32], activation=torch.nn.ReLU), \n",
    "                    seed = 0, \n",
    "                    steps_per_epoch = 1500, \n",
    "                    epochs = 500, \n",
    "                    replay_size = 1000000, \n",
    "                    gamma = 0.995, \n",
    "                    polyak = 0.995, \n",
    "                    pi_lr = 0.0025,\n",
    "                    q_lr = 0.0025,\n",
    "                    batch_size = 100, \n",
    "                    start_steps = 10000,\n",
    "                    act_noise = 0.1,\n",
    "                    max_ep_len = 100, \n",
    "                    logger_kwargs = dict(output_dir='ddpg_q_i0', exp_name='ddpg_q_i0'))"
   ]
  },
  {
   "cell_type": "code",
   "execution_count": null,
   "metadata": {
    "colab": {
     "base_uri": "https://localhost:8080/",
     "height": 533
    },
    "colab_type": "code",
    "executionInfo": {
     "elapsed": 654004,
     "status": "error",
     "timestamp": 1584037207187,
     "user": {
      "displayName": "Matthieu Le Cauchois",
      "photoUrl": "https://lh3.googleusercontent.com/a-/AOh14GgY9gRlHHK-FHlINeRnTJw_wewJsr639GH8MAWl=s64",
      "userId": "10992927378504656501"
     },
     "user_tz": -60
    },
    "id": "fLyFHs0yQBOd",
    "outputId": "260489ff-5e40-416a-e529-5a0cfcaefceb",
    "scrolled": true
   },
   "outputs": [],
   "source": [
    "# Env function\n",
    "env_name = 'GyroscopeIntegralEnv-v0'\n",
    "simu_args = {\n",
    "    'dt': 0.05,\n",
    "    'ep_len': 100,\n",
    "    'seed': 2\n",
    "}\n",
    "reward_func = 'Quadratic'\n",
    "reward_args = {\n",
    "    'qx1': 9, \n",
    "    'qx2': 0.05, \n",
    "    'qx3': 9, \n",
    "    'qx4': 0.05, \n",
    "    'qi1': 0.01,\n",
    "    'qi3': 0.01,\n",
    "    'pu1': 0.1, \n",
    "    'pu2': 0.1\n",
    "}\n",
    "env_fn_ = partial(env_fn, env_name, simu_args = simu_args, reward_func = reward_func, reward_args = reward_args)\n",
    "\n",
    "# Baseline 0 training\n",
    "spinup.ddpg_pytorch(env_fn_, \n",
    "                    ac_kwargs = dict(hidden_sizes=[128,32], activation=torch.nn.ReLU), \n",
    "                    seed = 0, \n",
    "                    steps_per_epoch = 1500, \n",
    "                    epochs = 500, \n",
    "                    replay_size = 1000000, \n",
    "                    gamma = 0.995, \n",
    "                    polyak = 0.995, \n",
    "                    pi_lr = 0.0025,\n",
    "                    q_lr = 0.0025,\n",
    "                    batch_size = 100, \n",
    "                    start_steps = 10000,\n",
    "                    act_noise = 0.1,\n",
    "                    max_ep_len = 100, \n",
    "                    logger_kwargs = dict(output_dir='ddpg_q_i001', exp_name='ddpg_q_i001'))"
   ]
  },
  {
   "cell_type": "code",
   "execution_count": null,
   "metadata": {
    "colab": {
     "base_uri": "https://localhost:8080/",
     "height": 533
    },
    "colab_type": "code",
    "executionInfo": {
     "elapsed": 654004,
     "status": "error",
     "timestamp": 1584037207187,
     "user": {
      "displayName": "Matthieu Le Cauchois",
      "photoUrl": "https://lh3.googleusercontent.com/a-/AOh14GgY9gRlHHK-FHlINeRnTJw_wewJsr639GH8MAWl=s64",
      "userId": "10992927378504656501"
     },
     "user_tz": -60
    },
    "id": "fLyFHs0yQBOd",
    "outputId": "260489ff-5e40-416a-e529-5a0cfcaefceb",
    "scrolled": true
   },
   "outputs": [],
   "source": [
    "# Env function\n",
    "env_name = 'GyroscopeIntegralEnv-v0'\n",
    "simu_args = {\n",
    "    'dt': 0.05,\n",
    "    'ep_len': 100,\n",
    "    'seed': 2\n",
    "}\n",
    "reward_func = 'Quadratic'\n",
    "reward_args = {\n",
    "    'qx1': 9, \n",
    "    'qx2': 0.05, \n",
    "    'qx3': 9, \n",
    "    'qx4': 0.05, \n",
    "    'qi1': 0.1,\n",
    "    'qi3': 0.1,\n",
    "    'pu1': 0.1, \n",
    "    'pu2': 0.1\n",
    "}\n",
    "env_fn_ = partial(env_fn, env_name, simu_args = simu_args, reward_func = reward_func, reward_args = reward_args)\n",
    "\n",
    "# Baseline 0 training\n",
    "spinup.ddpg_pytorch(env_fn_, \n",
    "                    ac_kwargs = dict(hidden_sizes=[128,32], activation=torch.nn.ReLU), \n",
    "                    seed = 0, \n",
    "                    steps_per_epoch = 1500, \n",
    "                    epochs = 500, \n",
    "                    replay_size = 1000000, \n",
    "                    gamma = 0.995, \n",
    "                    polyak = 0.995, \n",
    "                    pi_lr = 0.0025,\n",
    "                    q_lr = 0.0025,\n",
    "                    batch_size = 100, \n",
    "                    start_steps = 10000,\n",
    "                    act_noise = 0.1,\n",
    "                    max_ep_len = 100, \n",
    "                    logger_kwargs = dict(output_dir='ddpg_q_i01', exp_name='ddpg_q_i01'))"
   ]
  },
  {
   "cell_type": "code",
   "execution_count": null,
   "metadata": {
    "colab": {
     "base_uri": "https://localhost:8080/",
     "height": 533
    },
    "colab_type": "code",
    "executionInfo": {
     "elapsed": 654004,
     "status": "error",
     "timestamp": 1584037207187,
     "user": {
      "displayName": "Matthieu Le Cauchois",
      "photoUrl": "https://lh3.googleusercontent.com/a-/AOh14GgY9gRlHHK-FHlINeRnTJw_wewJsr639GH8MAWl=s64",
      "userId": "10992927378504656501"
     },
     "user_tz": -60
    },
    "id": "fLyFHs0yQBOd",
    "outputId": "260489ff-5e40-416a-e529-5a0cfcaefceb",
    "scrolled": true
   },
   "outputs": [],
   "source": [
    "# Env function\n",
    "env_name = 'GyroscopeIntegralEnv-v0'\n",
    "simu_args = {\n",
    "    'dt': 0.05,\n",
    "    'ep_len': 100,\n",
    "    'seed': 2\n",
    "}\n",
    "reward_func = 'Quadratic'\n",
    "reward_args = {\n",
    "    'qx1': 9, \n",
    "    'qx2': 0.05, \n",
    "    'qx3': 9, \n",
    "    'qx4': 0.05, \n",
    "    'qi1': 1,\n",
    "    'qi3': 1,\n",
    "    'pu1': 0.1, \n",
    "    'pu2': 0.1\n",
    "}\n",
    "env_fn_ = partial(env_fn, env_name, simu_args = simu_args, reward_func = reward_func, reward_args = reward_args)\n",
    "\n",
    "# Baseline 0 training\n",
    "spinup.ddpg_pytorch(env_fn_, \n",
    "                    ac_kwargs = dict(hidden_sizes=[128,32], activation=torch.nn.ReLU), \n",
    "                    seed = 0, \n",
    "                    steps_per_epoch = 1500, \n",
    "                    epochs = 500, \n",
    "                    replay_size = 1000000, \n",
    "                    gamma = 0.995, \n",
    "                    polyak = 0.995, \n",
    "                    pi_lr = 0.0025,\n",
    "                    q_lr = 0.0025,\n",
    "                    batch_size = 100, \n",
    "                    start_steps = 10000,\n",
    "                    act_noise = 0.1,\n",
    "                    max_ep_len = 100, \n",
    "                    logger_kwargs = dict(output_dir='ddpg_q_i1', exp_name='ddpg_q_i1'))"
   ]
  }
 ],
 "metadata": {
  "accelerator": "GPU",
  "colab": {
   "collapsed_sections": [],
   "name": "gyroscope_ddpg_testing.ipynb",
   "provenance": []
  },
  "kernelspec": {
   "display_name": "Python 3",
   "language": "python",
   "name": "python3"
  },
  "language_info": {
   "codemirror_mode": {
    "name": "ipython",
    "version": 3
   },
   "file_extension": ".py",
   "mimetype": "text/x-python",
   "name": "python",
   "nbconvert_exporter": "python",
   "pygments_lexer": "ipython3",
   "version": "3.7.9"
  }
 },
 "nbformat": 4,
 "nbformat_minor": 4
}
