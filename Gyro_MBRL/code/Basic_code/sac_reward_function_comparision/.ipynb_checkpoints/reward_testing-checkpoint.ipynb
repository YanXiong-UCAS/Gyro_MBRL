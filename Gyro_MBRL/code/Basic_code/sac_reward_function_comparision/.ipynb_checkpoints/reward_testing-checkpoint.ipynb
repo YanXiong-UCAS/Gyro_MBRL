{
 "cells": [
  {
   "cell_type": "markdown",
   "metadata": {
    "colab_type": "text",
    "id": "x83dMPapQBN6"
   },
   "source": [
    "# Model testing with quadratic, exponential, and other reward functions on Env-v1"
   ]
  },
  {
   "cell_type": "code",
   "execution_count": 2,
   "metadata": {},
   "outputs": [],
   "source": [
    "# More tests in reward_testing.py"
   ]
  },
  {
   "cell_type": "code",
   "execution_count": 3,
   "metadata": {
    "colab": {},
    "colab_type": "code",
    "id": "fuJhdd479TpP"
   },
   "outputs": [
    {
     "name": "stderr",
     "output_type": "stream",
     "text": [
      "In /home/xiongyan/anaconda3/envs/spinningup/lib/python3.6/site-packages/matplotlib/mpl-data/stylelib/_classic_test.mplstyle: \n",
      "The text.latex.preview rcparam was deprecated in Matplotlib 3.3 and will be removed two minor releases later.\n",
      "In /home/xiongyan/anaconda3/envs/spinningup/lib/python3.6/site-packages/matplotlib/mpl-data/stylelib/_classic_test.mplstyle: \n",
      "The mathtext.fallback_to_cm rcparam was deprecated in Matplotlib 3.3 and will be removed two minor releases later.\n",
      "In /home/xiongyan/anaconda3/envs/spinningup/lib/python3.6/site-packages/matplotlib/mpl-data/stylelib/_classic_test.mplstyle: Support for setting the 'mathtext.fallback_to_cm' rcParam is deprecated since 3.3 and will be removed two minor releases later; use 'mathtext.fallback : 'cm' instead.\n",
      "In /home/xiongyan/anaconda3/envs/spinningup/lib/python3.6/site-packages/matplotlib/mpl-data/stylelib/_classic_test.mplstyle: \n",
      "The validate_bool_maybe_none function was deprecated in Matplotlib 3.3 and will be removed two minor releases later.\n",
      "In /home/xiongyan/anaconda3/envs/spinningup/lib/python3.6/site-packages/matplotlib/mpl-data/stylelib/_classic_test.mplstyle: \n",
      "The savefig.jpeg_quality rcparam was deprecated in Matplotlib 3.3 and will be removed two minor releases later.\n",
      "In /home/xiongyan/anaconda3/envs/spinningup/lib/python3.6/site-packages/matplotlib/mpl-data/stylelib/_classic_test.mplstyle: \n",
      "The keymap.all_axes rcparam was deprecated in Matplotlib 3.3 and will be removed two minor releases later.\n",
      "In /home/xiongyan/anaconda3/envs/spinningup/lib/python3.6/site-packages/matplotlib/mpl-data/stylelib/_classic_test.mplstyle: \n",
      "The animation.avconv_path rcparam was deprecated in Matplotlib 3.3 and will be removed two minor releases later.\n",
      "In /home/xiongyan/anaconda3/envs/spinningup/lib/python3.6/site-packages/matplotlib/mpl-data/stylelib/_classic_test.mplstyle: \n",
      "The animation.avconv_args rcparam was deprecated in Matplotlib 3.3 and will be removed two minor releases later.\n"
     ]
    }
   ],
   "source": [
    "import gym\n",
    "from gym import spaces\n",
    "from gym.utils import seeding\n",
    "import numpy as np\n",
    "from os import path\n",
    "from scipy.integrate import solve_ivp\n",
    "import pandas as pd\n",
    "\n",
    "import gym_gyroscope_env\n",
    "import spinup\n",
    "import torch\n",
    "from functools import partial\n",
    "\n",
    "from custom_functions.custom_functions import env_fn \n",
    "from custom_functions.custom_functions import create_env\n",
    "from custom_functions.custom_functions import load_agent\n",
    "from custom_functions.custom_functions import test_agent\n",
    "from custom_functions.custom_functions import plot_test\n",
    "from custom_functions.custom_functions import evaluate_control\n",
    "from custom_functions.custom_functions import read_progress\n",
    "\n",
    "import random\n",
    "from collections import deque\n",
    "import matplotlib.pyplot as plt\n",
    "%matplotlib inline"
   ]
  },
  {
   "cell_type": "markdown",
   "metadata": {},
   "source": [
    "## Plot rewards"
   ]
  },
  {
   "cell_type": "code",
   "execution_count": 4,
   "metadata": {},
   "outputs": [
    {
     "ename": "ValueError",
     "evalue": "could not broadcast input array from shape (27) into shape (23)",
     "output_type": "error",
     "traceback": [
      "\u001b[0;31m---------------------------------------------------------------------------\u001b[0m",
      "\u001b[0;31mValueError\u001b[0m                                Traceback (most recent call last)",
      "\u001b[0;32m<ipython-input-4-ee37a99c14f5>\u001b[0m in \u001b[0;36m<module>\u001b[0;34m\u001b[0m\n\u001b[1;32m     16\u001b[0m \u001b[0;34m\u001b[0m\u001b[0m\n\u001b[1;32m     17\u001b[0m \u001b[0;32mfor\u001b[0m \u001b[0magent_path\u001b[0m \u001b[0;32min\u001b[0m \u001b[0magent_paths\u001b[0m\u001b[0;34m[\u001b[0m\u001b[0;34m:\u001b[0m\u001b[0;34m]\u001b[0m\u001b[0;34m:\u001b[0m\u001b[0;34m\u001b[0m\u001b[0;34m\u001b[0m\u001b[0m\n\u001b[0;32m---> 18\u001b[0;31m     \u001b[0mprogress\u001b[0m \u001b[0;34m=\u001b[0m \u001b[0mread_progress\u001b[0m\u001b[0;34m(\u001b[0m\u001b[0magent_path\u001b[0m\u001b[0;34m)\u001b[0m   \u001b[0;31m# ddpg是19维度，sac是27维度，需要分别绘制\u001b[0m\u001b[0;34m\u001b[0m\u001b[0;34m\u001b[0m\u001b[0m\n\u001b[0m\u001b[1;32m     19\u001b[0m     \u001b[0mplt\u001b[0m\u001b[0;34m.\u001b[0m\u001b[0mplot\u001b[0m\u001b[0;34m(\u001b[0m\u001b[0mnp\u001b[0m\u001b[0;34m.\u001b[0m\u001b[0marange\u001b[0m\u001b[0;34m(\u001b[0m\u001b[0mprogress\u001b[0m\u001b[0;34m.\u001b[0m\u001b[0mshape\u001b[0m\u001b[0;34m[\u001b[0m\u001b[0;36m0\u001b[0m\u001b[0;34m]\u001b[0m\u001b[0;34m)\u001b[0m\u001b[0;34m,\u001b[0m \u001b[0mprogress\u001b[0m\u001b[0;34m[\u001b[0m\u001b[0;34m:\u001b[0m\u001b[0;34m,\u001b[0m\u001b[0;36m1\u001b[0m\u001b[0;34m]\u001b[0m\u001b[0;34m/\u001b[0m\u001b[0mabs\u001b[0m\u001b[0;34m(\u001b[0m\u001b[0mmax\u001b[0m\u001b[0;34m(\u001b[0m\u001b[0mprogress\u001b[0m\u001b[0;34m[\u001b[0m\u001b[0;34m:\u001b[0m\u001b[0;34m,\u001b[0m\u001b[0;36m1\u001b[0m\u001b[0;34m]\u001b[0m\u001b[0;34m)\u001b[0m\u001b[0;34m)\u001b[0m\u001b[0;34m)\u001b[0m\u001b[0;34m\u001b[0m\u001b[0;34m\u001b[0m\u001b[0m\n\u001b[1;32m     20\u001b[0m \u001b[0;31m#     plt.fill_between(np.arange(progress.shape[0]), progress[:,3], progress[:,4], alpha=0.5)\u001b[0m\u001b[0;34m\u001b[0m\u001b[0;34m\u001b[0m\u001b[0;34m\u001b[0m\u001b[0m\n",
      "\u001b[0;32m~/anaconda3/envs/spinningup/lib/python3.6/site-packages/custom_functions/custom_functions.py\u001b[0m in \u001b[0;36mread_progress\u001b[0;34m(agent_path)\u001b[0m\n\u001b[1;32m    354\u001b[0m         \u001b[0;32mif\u001b[0m \u001b[0mrow\u001b[0m \u001b[0;34m==\u001b[0m \u001b[0;36m0\u001b[0m\u001b[0;34m:\u001b[0m\u001b[0;34m\u001b[0m\u001b[0;34m\u001b[0m\u001b[0m\n\u001b[1;32m    355\u001b[0m             \u001b[0;32mcontinue\u001b[0m\u001b[0;34m\u001b[0m\u001b[0;34m\u001b[0m\u001b[0m\n\u001b[0;32m--> 356\u001b[0;31m         \u001b[0mdata\u001b[0m\u001b[0;34m[\u001b[0m\u001b[0mrow\u001b[0m\u001b[0;34m-\u001b[0m\u001b[0;36m1\u001b[0m\u001b[0;34m]\u001b[0m \u001b[0;34m=\u001b[0m \u001b[0mnp\u001b[0m\u001b[0;34m.\u001b[0m\u001b[0marray\u001b[0m\u001b[0;34m(\u001b[0m\u001b[0mx\u001b[0m\u001b[0;34m.\u001b[0m\u001b[0msplit\u001b[0m\u001b[0;34m(\u001b[0m\u001b[0;34m'\\t'\u001b[0m\u001b[0;34m)\u001b[0m\u001b[0;34m)\u001b[0m\u001b[0;34m.\u001b[0m\u001b[0mastype\u001b[0m\u001b[0;34m(\u001b[0m\u001b[0mnp\u001b[0m\u001b[0;34m.\u001b[0m\u001b[0mfloat\u001b[0m\u001b[0;34m)\u001b[0m\u001b[0;34m\u001b[0m\u001b[0;34m\u001b[0m\u001b[0m\n\u001b[0m\u001b[1;32m    357\u001b[0m     \u001b[0mfile\u001b[0m\u001b[0;34m.\u001b[0m\u001b[0mclose\u001b[0m\u001b[0;34m(\u001b[0m\u001b[0;34m)\u001b[0m\u001b[0;34m\u001b[0m\u001b[0;34m\u001b[0m\u001b[0m\n\u001b[1;32m    358\u001b[0m \u001b[0;34m\u001b[0m\u001b[0m\n",
      "\u001b[0;31mValueError\u001b[0m: could not broadcast input array from shape (27) into shape (23)"
     ]
    },
    {
     "data": {
      "image/png": "[encoded data removed]",
      "text/plain": [
       "<Figure size 1440x720 with 1 Axes>"
      ]
     },
     "metadata": {
      "needs_background": "light"
     },
     "output_type": "display_data"
    }
   ],
   "source": [
    "plt.figure(figsize=(20,10))\n",
    "plt.title('Average Epoch Return',fontsize=28)\n",
    "plt.xlabel('Epoch',fontsize=24)\n",
    "plt.xticks(fontsize=24)\n",
    "plt.ylabel('Average Epoch Return',fontsize=24)\n",
    "plt.yticks(fontsize=24)\n",
    "plt.grid()\n",
    "\n",
    "# agent_paths = ['sac_q', 'sac_a', 'sac_n', 'sac_n_2505', 'sac_q_ep', 'sac_q_p', 'sac_q_b', 'sac_n_b', 'sac_s', 'sac_p01e40', 'sac_p01e80', 'sac_p005', 'sac_p05', 'sac_p01', 'sac_e10', 'sac_e20', 'sac_e40', 'sac_p005_gamma095', 'sac_p005_gamma1']   # 'sac_q_e'训练了2000次\n",
    "agent_paths = ['sac_q_ep', 'sac_p01e40', 'sac_p01e80', 'sac_p005', 'sac_p05', 'sac_p01']\n",
    "# agent_paths = ['ddpg_a','ddpg_n','ddpg_n_b','ddpg_q','ddpg_q_b','ddpg_q_e','ddpg_q_ep','ddpg_q_p','ddpg_s']\n",
    "# agent_paths = ['ddpg_p005','ddpg_p01','ddpg_p05','ddpg_p005_gamma095','ddpg_p005_gamma1']\n",
    "# agent_paths = ['ddpg_e10','ddpg_e20','ddpg_e40','ddpg_p01e40','ddpg_p01e80']\n",
    "# agent_paths = ['ddpg_e10_2000epochs','ddpg_e20_2000epochs','ddpg_e40_2000epochs',\n",
    "#                'ddpg_p01e40_2000epochs','ddpg_p01e80_2000epochs']\n",
    "\n",
    "for agent_path in agent_paths[:]:\n",
    "    progress = read_progress(agent_path)   # ddpg是19维度，sac是27维度，需要分别绘制\n",
    "    plt.plot(np.arange(progress.shape[0]), progress[:,1]/abs(max(progress[:,1])))\n",
    "#     plt.fill_between(np.arange(progress.shape[0]), progress[:,3], progress[:,4], alpha=0.5)\n",
    "#     plt.fill_between(np.arange(progress.shape[0]), progress[:,1]+progress[:,2], progress[:,1]-progress[:,2], alpha=0.5)\n",
    "\n",
    "# plt.xlim([0,500])\n",
    "# plt.ylim([-2000,0])\n",
    "plt.legend(agent_paths,fontsize=24)\n",
    "plt.legend(['Q','A','N','EP','QP','QE','QB','NB', 'S', 'PE0140', 'PE0180', 'Power005', 'Power05', 'Power01', 'Exponential10', 'Exponential20', 'Exponential40', 'Power005_gamma095', 'Power005_gamma1'],fontsize=16)\n",
    "# plt.legend([r'p=0.05,$\\gamma$=0.995','p=0.1,$\\gamma$=0.995','p=0.5,$\\gamma$=0.995','p=0.05,$\\gamma$=0.95'],fontsize=24)\n",
    "# plt.legend(['c=-10','c=-20','c=-40'],fontsize=24)\n",
    "# plt.savefig('quad_epoch.png')\n",
    "# plt.savefig('power_epoch.png')\n",
    "# plt.savefig('exp_epoch.png')\n",
    "plt.savefig('tmp.png')"
   ]
  },
  {
   "cell_type": "markdown",
   "metadata": {
    "colab_type": "text",
    "id": "Gn3Gp40bcOVz"
   },
   "source": [
    "## Test an agent"
   ]
  },
  {
   "cell_type": "code",
   "execution_count": 1,
   "metadata": {
    "colab": {
     "base_uri": "https://localhost:8080/",
     "height": 106
    },
    "colab_type": "code",
    "executionInfo": {
     "elapsed": 972,
     "status": "ok",
     "timestamp": 1584036455886,
     "user": {
      "displayName": "Matthieu Le Cauchois",
      "photoUrl": "https://lh3.googleusercontent.com/a-/AOh14GgY9gRlHHK-FHlINeRnTJw_wewJsr639GH8MAWl=s64",
      "userId": "10992927378504656501"
     },
     "user_tz": -60
    },
    "id": "6GyY0wE-QBOj",
    "outputId": "9a5e9011-e024-4a65-8383-83c062cdcad9"
   },
   "outputs": [
    {
     "ename": "NameError",
     "evalue": "name 'np' is not defined",
     "output_type": "error",
     "traceback": [
      "\u001b[0;31m---------------------------------------------------------------------------\u001b[0m",
      "\u001b[0;31mNameError\u001b[0m                                 Traceback (most recent call last)",
      "\u001b[0;32m<ipython-input-1-e2777d7c0e75>\u001b[0m in \u001b[0;36m<module>\u001b[0;34m\u001b[0m\n\u001b[1;32m      2\u001b[0m \u001b[0menv_name\u001b[0m \u001b[0;34m=\u001b[0m \u001b[0;34m'GyroscopeEnv-v1'\u001b[0m  \u001b[0;31m# GyroscopeRealEnv-v0， GyroscopeEnv-v1, GyroscopeIntegralEnv-v1\u001b[0m\u001b[0;34m\u001b[0m\u001b[0;34m\u001b[0m\u001b[0m\n\u001b[1;32m      3\u001b[0m \u001b[0;34m\u001b[0m\u001b[0m\n\u001b[0;32m----> 4\u001b[0;31m \u001b[0minit_state\u001b[0m \u001b[0;34m=\u001b[0m \u001b[0mnp\u001b[0m\u001b[0;34m.\u001b[0m\u001b[0marray\u001b[0m\u001b[0;34m(\u001b[0m\u001b[0;34m[\u001b[0m\u001b[0;36m0\u001b[0m\u001b[0;34m,\u001b[0m\u001b[0;36m0\u001b[0m\u001b[0;34m,\u001b[0m\u001b[0;36m0\u001b[0m\u001b[0;34m,\u001b[0m\u001b[0;36m0\u001b[0m\u001b[0;34m,\u001b[0m\u001b[0;36m45\u001b[0m\u001b[0;34m/\u001b[0m\u001b[0;36m180\u001b[0m\u001b[0;34m*\u001b[0m\u001b[0mnp\u001b[0m\u001b[0;34m.\u001b[0m\u001b[0mpi\u001b[0m\u001b[0;34m,\u001b[0m\u001b[0;34m-\u001b[0m\u001b[0;36m60\u001b[0m\u001b[0;34m/\u001b[0m\u001b[0;36m180\u001b[0m\u001b[0;34m*\u001b[0m\u001b[0mnp\u001b[0m\u001b[0;34m.\u001b[0m\u001b[0mpi\u001b[0m\u001b[0;34m,\u001b[0m\u001b[0;36m200\u001b[0m\u001b[0;34m/\u001b[0m\u001b[0;36m60\u001b[0m\u001b[0;34m*\u001b[0m\u001b[0;36m2\u001b[0m\u001b[0;34m*\u001b[0m\u001b[0mnp\u001b[0m\u001b[0;34m.\u001b[0m\u001b[0mpi\u001b[0m\u001b[0;34m]\u001b[0m\u001b[0;34m)\u001b[0m\u001b[0;34m\u001b[0m\u001b[0;34m\u001b[0m\u001b[0m\n\u001b[0m\u001b[1;32m      5\u001b[0m \u001b[0menv\u001b[0m \u001b[0;34m=\u001b[0m \u001b[0mcreate_env\u001b[0m\u001b[0;34m(\u001b[0m\u001b[0menv_name\u001b[0m\u001b[0;34m,\u001b[0m\u001b[0mstate\u001b[0m\u001b[0;34m=\u001b[0m\u001b[0minit_state\u001b[0m\u001b[0;34m)\u001b[0m\u001b[0;34m\u001b[0m\u001b[0;34m\u001b[0m\u001b[0m\n\u001b[1;32m      6\u001b[0m \u001b[0;34m\u001b[0m\u001b[0m\n",
      "\u001b[0;31mNameError\u001b[0m: name 'np' is not defined"
     ]
    }
   ],
   "source": [
    "# Test paramaters\n",
    "env_name = 'GyroscopeEnv-v1'  # GyroscopeRealEnv-v0， GyroscopeEnv-v1, GyroscopeIntegralEnv-v1\n",
    "\n",
    "init_state = np.array([0,0,0,0,45/180*np.pi,-60/180*np.pi,200/60*2*np.pi])\n",
    "env = create_env(env_name,state=init_state)\n",
    "\n",
    "# agent_paths = ['sac_q', 'sac_q_ep', 'sac_q_p', 'sac_q_e', 'sac_q_b']   # Quadratic\n",
    "# agent_paths = [\"sac_q_opt_001\", \"sac_q_opt_002\", \"sac_q_opt_003\"]   # Quadratic---opt\n",
    "# agent_paths = ['sac_a']   # Absolute\n",
    "# agent_paths = ['sac_n', 'sac_n_2505', 'sac_n_b']   # Normalized\n",
    "# agent_paths = ['sac_s']   # Sparse\n",
    "# agent_paths = ['sac_p01e40', 'sac_p01e80']   # PE\n",
    "agent_paths = ['sac_pe_opt', \"sac_pe_opt001\", \"sac_pe_opt002\", \"sac_pe_opt003\", \"sac_pe_opt004\", \"sac_pe_opt005\", \"sac_pe_opt006\", \"sac_pe_opt007\", \"sac_pe_opt_ing\"]   # PE---opt\n",
    "# agent_paths = ['sac_p005', 'sac_p05', 'sac_p01']   # Power\n",
    "# agent_paths = ['sac_e10', 'sac_20', 'sac_e40']   # Exponential\n",
    "# agent_paths = ['sac_p005_gamma095', 'sac_p005_gamma1']   # Power\n",
    "# agent_paths = [\"ddpg_compare\"]\n",
    "\n",
    "agent = load_agent(agent_paths[3])\n",
    "t_end = 5\n",
    "\n",
    "score, state_record, obs_record, action_record, reward_record = test_agent(env,agent,t_end)\n",
    "plot_test(state_record, action_record, t_end, 4)   # 显示所有的测试，更价值观清晰\n",
    "score"
   ]
  },
  {
   "cell_type": "code",
   "execution_count": 18,
   "metadata": {},
   "outputs": [
    {
     "data": {
      "image/png": "[encoded data removed]",
      "text/plain": [
       "<Figure size 1440x432 with 2 Axes>"
      ]
     },
     "metadata": {
      "needs_background": "light"
     },
     "output_type": "display_data"
    }
   ],
   "source": [
    "time = np.linspace(0, t_end, len(state_record))\n",
    "n = 1\n",
    "f, axs = plt.subplots(n,2,figsize=(20,6*n))\n",
    "\n",
    "plt.subplot(n,2,1)\n",
    "plt.title('Red gimbal angle',fontsize=24)\n",
    "plt.xlabel('time [s]',fontsize=20)\n",
    "plt.ylabel(r'$\\theta$ [rad]',fontsize=20)\n",
    "plt.xticks(fontsize=20)\n",
    "plt.yticks(fontsize=20)\n",
    "plt.grid()\n",
    "plt.plot(time,env.angle_normalize(state_record[:,0]),'r-')\n",
    "plt.plot(time,env.angle_normalize(state_record[:,4]),'g--')\n",
    "# plt.plot(time,np.full(len(time),180), 'k-')\n",
    "# plt.plot(time,np.full(len(time),-180), 'k-')\n",
    "plt.legend(['Simulated','Reference'],fontsize=20)\n",
    "\n",
    "plt.subplot(n,2,2)\n",
    "plt.title('Blue gimbal angle',fontsize=24)\n",
    "plt.xlabel('time [s]',fontsize=20)\n",
    "plt.ylabel(r'$\\phi$ [rad]',fontsize=20)\n",
    "plt.xticks(fontsize=20)\n",
    "plt.yticks(fontsize=20)\n",
    "plt.grid()\n",
    "plt.plot(time,env.angle_normalize(state_record[:,2]),'b-')\n",
    "plt.plot(time,env.angle_normalize(state_record[:,5]),'g--')\n",
    "# plt.plot(time,np.full(len(time),180), 'k-')\n",
    "# plt.plot(time,np.full(len(time),-180), 'k-')\n",
    "plt.legend(['Simulated','Reference'],fontsize=20)\n",
    "\n",
    "plt.savefig('tmp.png')"
   ]
  },
  {
   "cell_type": "markdown",
   "metadata": {},
   "source": [
    "## Evaluate control performance"
   ]
  },
  {
   "cell_type": "code",
   "execution_count": 19,
   "metadata": {},
   "outputs": [
    {
     "ename": "FileNotFoundError",
     "evalue": "[Errno 2] No such file or directory: 'Metrics_QAN.csv'",
     "output_type": "error",
     "traceback": [
      "\u001b[0;31m---------------------------------------------------------------------------\u001b[0m",
      "\u001b[0;31mFileNotFoundError\u001b[0m                         Traceback (most recent call last)",
      "\u001b[0;32m<ipython-input-19-83ef0cf88b22>\u001b[0m in \u001b[0;36m<module>\u001b[0;34m\u001b[0m\n\u001b[0;32m----> 1\u001b[0;31m \u001b[0mmetrics_QAN\u001b[0m \u001b[0;34m=\u001b[0m \u001b[0mpd\u001b[0m\u001b[0;34m.\u001b[0m\u001b[0mread_csv\u001b[0m\u001b[0;34m(\u001b[0m\u001b[0;34m'Metrics_QAN.csv'\u001b[0m\u001b[0;34m)\u001b[0m\u001b[0;34m\u001b[0m\u001b[0;34m\u001b[0m\u001b[0m\n\u001b[0m\u001b[1;32m      2\u001b[0m \u001b[0mmetrics_QAN\u001b[0m\u001b[0;34m\u001b[0m\u001b[0;34m\u001b[0m\u001b[0m\n\u001b[1;32m      3\u001b[0m \u001b[0;34m\u001b[0m\u001b[0m\n",
      "\u001b[0;32m~/anaconda3/envs/spinningup/lib/python3.6/site-packages/pandas/io/parsers.py\u001b[0m in \u001b[0;36mread_csv\u001b[0;34m(filepath_or_buffer, sep, delimiter, header, names, index_col, usecols, squeeze, prefix, mangle_dupe_cols, dtype, engine, converters, true_values, false_values, skipinitialspace, skiprows, skipfooter, nrows, na_values, keep_default_na, na_filter, verbose, skip_blank_lines, parse_dates, infer_datetime_format, keep_date_col, date_parser, dayfirst, cache_dates, iterator, chunksize, compression, thousands, decimal, lineterminator, quotechar, quoting, doublequote, escapechar, comment, encoding, dialect, error_bad_lines, warn_bad_lines, delim_whitespace, low_memory, memory_map, float_precision)\u001b[0m\n\u001b[1;32m    686\u001b[0m     )\n\u001b[1;32m    687\u001b[0m \u001b[0;34m\u001b[0m\u001b[0m\n\u001b[0;32m--> 688\u001b[0;31m     \u001b[0;32mreturn\u001b[0m \u001b[0m_read\u001b[0m\u001b[0;34m(\u001b[0m\u001b[0mfilepath_or_buffer\u001b[0m\u001b[0;34m,\u001b[0m \u001b[0mkwds\u001b[0m\u001b[0;34m)\u001b[0m\u001b[0;34m\u001b[0m\u001b[0;34m\u001b[0m\u001b[0m\n\u001b[0m\u001b[1;32m    689\u001b[0m \u001b[0;34m\u001b[0m\u001b[0m\n\u001b[1;32m    690\u001b[0m \u001b[0;34m\u001b[0m\u001b[0m\n",
      "\u001b[0;32m~/anaconda3/envs/spinningup/lib/python3.6/site-packages/pandas/io/parsers.py\u001b[0m in \u001b[0;36m_read\u001b[0;34m(filepath_or_buffer, kwds)\u001b[0m\n\u001b[1;32m    452\u001b[0m \u001b[0;34m\u001b[0m\u001b[0m\n\u001b[1;32m    453\u001b[0m     \u001b[0;31m# Create the parser.\u001b[0m\u001b[0;34m\u001b[0m\u001b[0;34m\u001b[0m\u001b[0;34m\u001b[0m\u001b[0m\n\u001b[0;32m--> 454\u001b[0;31m     \u001b[0mparser\u001b[0m \u001b[0;34m=\u001b[0m \u001b[0mTextFileReader\u001b[0m\u001b[0;34m(\u001b[0m\u001b[0mfp_or_buf\u001b[0m\u001b[0;34m,\u001b[0m \u001b[0;34m**\u001b[0m\u001b[0mkwds\u001b[0m\u001b[0;34m)\u001b[0m\u001b[0;34m\u001b[0m\u001b[0;34m\u001b[0m\u001b[0m\n\u001b[0m\u001b[1;32m    455\u001b[0m \u001b[0;34m\u001b[0m\u001b[0m\n\u001b[1;32m    456\u001b[0m     \u001b[0;32mif\u001b[0m \u001b[0mchunksize\u001b[0m \u001b[0;32mor\u001b[0m \u001b[0miterator\u001b[0m\u001b[0;34m:\u001b[0m\u001b[0;34m\u001b[0m\u001b[0;34m\u001b[0m\u001b[0m\n",
      "\u001b[0;32m~/anaconda3/envs/spinningup/lib/python3.6/site-packages/pandas/io/parsers.py\u001b[0m in \u001b[0;36m__init__\u001b[0;34m(self, f, engine, **kwds)\u001b[0m\n\u001b[1;32m    946\u001b[0m             \u001b[0mself\u001b[0m\u001b[0;34m.\u001b[0m\u001b[0moptions\u001b[0m\u001b[0;34m[\u001b[0m\u001b[0;34m\"has_index_names\"\u001b[0m\u001b[0;34m]\u001b[0m \u001b[0;34m=\u001b[0m \u001b[0mkwds\u001b[0m\u001b[0;34m[\u001b[0m\u001b[0;34m\"has_index_names\"\u001b[0m\u001b[0;34m]\u001b[0m\u001b[0;34m\u001b[0m\u001b[0;34m\u001b[0m\u001b[0m\n\u001b[1;32m    947\u001b[0m \u001b[0;34m\u001b[0m\u001b[0m\n\u001b[0;32m--> 948\u001b[0;31m         \u001b[0mself\u001b[0m\u001b[0;34m.\u001b[0m\u001b[0m_make_engine\u001b[0m\u001b[0;34m(\u001b[0m\u001b[0mself\u001b[0m\u001b[0;34m.\u001b[0m\u001b[0mengine\u001b[0m\u001b[0;34m)\u001b[0m\u001b[0;34m\u001b[0m\u001b[0;34m\u001b[0m\u001b[0m\n\u001b[0m\u001b[1;32m    949\u001b[0m \u001b[0;34m\u001b[0m\u001b[0m\n\u001b[1;32m    950\u001b[0m     \u001b[0;32mdef\u001b[0m \u001b[0mclose\u001b[0m\u001b[0;34m(\u001b[0m\u001b[0mself\u001b[0m\u001b[0;34m)\u001b[0m\u001b[0;34m:\u001b[0m\u001b[0;34m\u001b[0m\u001b[0;34m\u001b[0m\u001b[0m\n",
      "\u001b[0;32m~/anaconda3/envs/spinningup/lib/python3.6/site-packages/pandas/io/parsers.py\u001b[0m in \u001b[0;36m_make_engine\u001b[0;34m(self, engine)\u001b[0m\n\u001b[1;32m   1178\u001b[0m     \u001b[0;32mdef\u001b[0m \u001b[0m_make_engine\u001b[0m\u001b[0;34m(\u001b[0m\u001b[0mself\u001b[0m\u001b[0;34m,\u001b[0m \u001b[0mengine\u001b[0m\u001b[0;34m=\u001b[0m\u001b[0;34m\"c\"\u001b[0m\u001b[0;34m)\u001b[0m\u001b[0;34m:\u001b[0m\u001b[0;34m\u001b[0m\u001b[0;34m\u001b[0m\u001b[0m\n\u001b[1;32m   1179\u001b[0m         \u001b[0;32mif\u001b[0m \u001b[0mengine\u001b[0m \u001b[0;34m==\u001b[0m \u001b[0;34m\"c\"\u001b[0m\u001b[0;34m:\u001b[0m\u001b[0;34m\u001b[0m\u001b[0;34m\u001b[0m\u001b[0m\n\u001b[0;32m-> 1180\u001b[0;31m             \u001b[0mself\u001b[0m\u001b[0;34m.\u001b[0m\u001b[0m_engine\u001b[0m \u001b[0;34m=\u001b[0m \u001b[0mCParserWrapper\u001b[0m\u001b[0;34m(\u001b[0m\u001b[0mself\u001b[0m\u001b[0;34m.\u001b[0m\u001b[0mf\u001b[0m\u001b[0;34m,\u001b[0m \u001b[0;34m**\u001b[0m\u001b[0mself\u001b[0m\u001b[0;34m.\u001b[0m\u001b[0moptions\u001b[0m\u001b[0;34m)\u001b[0m\u001b[0;34m\u001b[0m\u001b[0;34m\u001b[0m\u001b[0m\n\u001b[0m\u001b[1;32m   1181\u001b[0m         \u001b[0;32melse\u001b[0m\u001b[0;34m:\u001b[0m\u001b[0;34m\u001b[0m\u001b[0;34m\u001b[0m\u001b[0m\n\u001b[1;32m   1182\u001b[0m             \u001b[0;32mif\u001b[0m \u001b[0mengine\u001b[0m \u001b[0;34m==\u001b[0m \u001b[0;34m\"python\"\u001b[0m\u001b[0;34m:\u001b[0m\u001b[0;34m\u001b[0m\u001b[0;34m\u001b[0m\u001b[0m\n",
      "\u001b[0;32m~/anaconda3/envs/spinningup/lib/python3.6/site-packages/pandas/io/parsers.py\u001b[0m in \u001b[0;36m__init__\u001b[0;34m(self, src, **kwds)\u001b[0m\n\u001b[1;32m   2008\u001b[0m         \u001b[0mkwds\u001b[0m\u001b[0;34m[\u001b[0m\u001b[0;34m\"usecols\"\u001b[0m\u001b[0;34m]\u001b[0m \u001b[0;34m=\u001b[0m \u001b[0mself\u001b[0m\u001b[0;34m.\u001b[0m\u001b[0musecols\u001b[0m\u001b[0;34m\u001b[0m\u001b[0;34m\u001b[0m\u001b[0m\n\u001b[1;32m   2009\u001b[0m \u001b[0;34m\u001b[0m\u001b[0m\n\u001b[0;32m-> 2010\u001b[0;31m         \u001b[0mself\u001b[0m\u001b[0;34m.\u001b[0m\u001b[0m_reader\u001b[0m \u001b[0;34m=\u001b[0m \u001b[0mparsers\u001b[0m\u001b[0;34m.\u001b[0m\u001b[0mTextReader\u001b[0m\u001b[0;34m(\u001b[0m\u001b[0msrc\u001b[0m\u001b[0;34m,\u001b[0m \u001b[0;34m**\u001b[0m\u001b[0mkwds\u001b[0m\u001b[0;34m)\u001b[0m\u001b[0;34m\u001b[0m\u001b[0;34m\u001b[0m\u001b[0m\n\u001b[0m\u001b[1;32m   2011\u001b[0m         \u001b[0mself\u001b[0m\u001b[0;34m.\u001b[0m\u001b[0munnamed_cols\u001b[0m \u001b[0;34m=\u001b[0m \u001b[0mself\u001b[0m\u001b[0;34m.\u001b[0m\u001b[0m_reader\u001b[0m\u001b[0;34m.\u001b[0m\u001b[0munnamed_cols\u001b[0m\u001b[0;34m\u001b[0m\u001b[0;34m\u001b[0m\u001b[0m\n\u001b[1;32m   2012\u001b[0m \u001b[0;34m\u001b[0m\u001b[0m\n",
      "\u001b[0;32mpandas/_libs/parsers.pyx\u001b[0m in \u001b[0;36mpandas._libs.parsers.TextReader.__cinit__\u001b[0;34m()\u001b[0m\n",
      "\u001b[0;32mpandas/_libs/parsers.pyx\u001b[0m in \u001b[0;36mpandas._libs.parsers.TextReader._setup_parser_source\u001b[0;34m()\u001b[0m\n",
      "\u001b[0;31mFileNotFoundError\u001b[0m: [Errno 2] No such file or directory: 'Metrics_QAN.csv'"
     ]
    }
   ],
   "source": [
    "metrics_QAN = pd.read_csv('Metrics_QAN.csv')\n",
    "metrics_QAN"
   ]
  },
  {
   "cell_type": "code",
   "execution_count": null,
   "metadata": {},
   "outputs": [],
   "source": [
    "metrics_PE = pd.read_csv('Metrics_PE.csv')\n",
    "metrics_PE\n",
    "# print(metrics_PE.iloc[0:8,[0,4,5,6]].to_latex(index=False,escape=False))"
   ]
  },
  {
   "cell_type": "code",
   "execution_count": null,
   "metadata": {},
   "outputs": [],
   "source": [
    "# m = pd.concat([metrics_PE.iloc[:,:4], metrics_QAN.iloc[:,1], metrics_P005.iloc[:,2]],axis=1)\n",
    "# print(m.to_latex(index=False,escape=False))"
   ]
  },
  {
   "cell_type": "code",
   "execution_count": null,
   "metadata": {},
   "outputs": [],
   "source": [
    "# metrics_P005_1 = pd.read_csv('Metrics_PE.csv')\n",
    "# metrics_P005_2 = pd.read_csv('Metrics_Pgamma.csv')\n",
    "# metrics_P005_3 = pd.read_csv('Metrics_Plen.csv')\n",
    "# metrics_P005 = pd.concat([metrics_P005_1.iloc[:,:2],metrics_P005_2.iloc[:,1:],metrics_P005_3.iloc[:,1:]],axis=1)\n",
    "# metrics_P005 = metrics_P005.round(4)\n",
    "# metrics_P005.to_csv('Metrics_P005.csv',index=False)"
   ]
  },
  {
   "cell_type": "code",
   "execution_count": null,
   "metadata": {},
   "outputs": [],
   "source": [
    "metrics_P005 = pd.read_csv('Metrics_P005.csv')\n",
    "metrics_P005"
   ]
  },
  {
   "cell_type": "code",
   "execution_count": null,
   "metadata": {},
   "outputs": [],
   "source": []
  },
  {
   "cell_type": "code",
   "execution_count": null,
   "metadata": {},
   "outputs": [],
   "source": []
  },
  {
   "cell_type": "code",
   "execution_count": null,
   "metadata": {},
   "outputs": [],
   "source": []
  },
  {
   "cell_type": "code",
   "execution_count": null,
   "metadata": {},
   "outputs": [],
   "source": [
    "plt.figure(figsize=(20,10))\n",
    "plt.title('Average Q value',fontsize=28)\n",
    "plt.xlabel('Epoch',fontsize=24)\n",
    "plt.xticks(fontsize=24)\n",
    "plt.ylabel('Average Q value',fontsize=24)\n",
    "plt.yticks(fontsize=24)\n",
    "plt.grid()\n",
    "\n",
    "agent_paths = ['ddpg_p005','ddpg_p005_gamma095']\n",
    "\n",
    "for agent_path in agent_paths:\n",
    "    progress = read_progress(agent_path)\n",
    "    plt.plot(np.arange(progress.shape[0]), progress[:,12])\n",
    "#     plt.fill_between(np.arange(progress.shape[0]), progress[:,14], progress[:,15], alpha=0.5)\n",
    "    plt.fill_between(np.arange(progress.shape[0]), progress[:,12]+progress[:,13], progress[:,12]-progress[:,13], alpha=0.5)\n",
    "\n",
    "plt.legend(agent_paths,fontsize=24)"
   ]
  },
  {
   "cell_type": "code",
   "execution_count": null,
   "metadata": {},
   "outputs": [],
   "source": []
  },
  {
   "cell_type": "code",
   "execution_count": null,
   "metadata": {},
   "outputs": [],
   "source": [
    "assert False"
   ]
  },
  {
   "cell_type": "markdown",
   "metadata": {},
   "source": [
    "## Why p = 0.05 doesn't learn with gamma = 0.995"
   ]
  },
  {
   "cell_type": "code",
   "execution_count": null,
   "metadata": {},
   "outputs": [],
   "source": [
    "agent_path = 'ddpg_p005'\n",
    "path = agent_path + '/pyt_save/model.pt'\n",
    "ac = torch.load(path)"
   ]
  },
  {
   "cell_type": "code",
   "execution_count": null,
   "metadata": {},
   "outputs": [],
   "source": [
    "gamma = 0.995\n",
    "te = np.arange(-np.pi,np.pi,0.01)\n",
    "es = np.zeros([len(te),1])\n",
    "rs = np.zeros([len(te),1])\n",
    "qs = np.zeros([len(te),1])\n",
    "ys = np.zeros([len(te),1])\n",
    "for i in range(len(te)):\n",
    "    o = torch.as_tensor(env.reset([te[i],0,0,0,0,0,200/60*2*np.pi]), dtype=torch.float32)\n",
    "    a = ac.pi(o)\n",
    "    q = ac.q(o,a).detach().numpy()\n",
    "    o2, r, _, _ = env.step(a.detach().numpy())\n",
    "    o2 = torch.as_tensor(o2, dtype=torch.float32)\n",
    "    a2 = ac.pi(o2)\n",
    "    q2 = ac.q(o2,a2).detach().numpy()\n",
    "    y = r + gamma*q2\n",
    "    es[i] = q - y\n",
    "    rs[i] = r\n",
    "    qs[i] = q\n",
    "    ys[i] = y\n",
    "plt.plot(qs)\n",
    "plt.plot(ys)\n",
    "# plt.plot(es/rs)\n",
    "# plt.plot(es)"
   ]
  },
  {
   "cell_type": "code",
   "execution_count": null,
   "metadata": {},
   "outputs": [],
   "source": [
    "gamma = 0.995\n",
    "es = np.zeros([len(obs_record)-1,1])\n",
    "rs = np.zeros([len(obs_record)-1,1])\n",
    "qs = np.zeros([len(obs_record)-1,1])\n",
    "ys = np.zeros([len(obs_record)-1,1])\n",
    "for i in range(len(obs_record)-1):\n",
    "    o = torch.as_tensor(obs_record[i], dtype=torch.float32)\n",
    "    a = ac.pi(o)\n",
    "    q = ac.q(o,a).detach().numpy()\n",
    "    o2 = torch.as_tensor(obs_record[i+1], dtype=torch.float32)\n",
    "    a2 = ac.pi(o2)\n",
    "    q2 = ac.q(o2,a2).detach().numpy()\n",
    "    y = reward_record[i+1] + gamma*q2\n",
    "    es[i] = q - y\n",
    "    rs[i] = reward_record[i+1]\n",
    "    qs[i] = q\n",
    "    ys[i] = y\n",
    "plt.plot(qs)\n",
    "plt.plot(ys)\n",
    "# plt.plot(es/rs)\n",
    "# plt.plot(es)"
   ]
  },
  {
   "cell_type": "code",
   "execution_count": null,
   "metadata": {},
   "outputs": [],
   "source": [
    "env.reset([np.pi*1/2,0,np.pi*1/2,0,0,0,200/60*2*np.pi])\n",
    "o_90 = torch.as_tensor(env.observation, dtype=torch.float32)\n",
    "env.reset([np.pi*1/3,0,np.pi*1/3,0,0,0,200/60*2*np.pi])\n",
    "o_60 = torch.as_tensor(env.observation, dtype=torch.float32)\n",
    "env.reset([np.pi*1/6,0,np.pi*1/6,0,0,0,200/60*2*np.pi])\n",
    "o_30 = torch.as_tensor(env.observation, dtype=torch.float32)\n",
    "env.reset([0,0,0,0,0,0,200/60*2*np.pi])\n",
    "o_0 = torch.as_tensor(env.observation, dtype=torch.float32)\n",
    "\n",
    "x = np.arange(-1,1,0.01)\n",
    "y = np.arange(-1,1,0.01)\n",
    "X, Y = np.meshgrid(x, y)\n",
    "\n",
    "q_90 = np.zeros([x.shape[0],y.shape[0]])\n",
    "q_60 = np.zeros([x.shape[0],y.shape[0]])\n",
    "q_30 = np.zeros([x.shape[0],y.shape[0]])\n",
    "q_0 = np.zeros([x.shape[0],y.shape[0]])\n",
    "\n",
    "for i in range(x.shape[0]):\n",
    "    for j in range(y.shape[0]):\n",
    "        a = torch.as_tensor([x[i], y[j]], dtype=torch.float32)\n",
    "        q_90[i][j] = ac.q(o_90, a).detach().numpy()\n",
    "        q_60[i][j] = ac.q(o_60, a).detach().numpy()\n",
    "        q_30[i][j] = ac.q(o_30, a).detach().numpy()\n",
    "        q_0[i][j] = ac.q(o_0, a).detach().numpy()"
   ]
  },
  {
   "cell_type": "code",
   "execution_count": null,
   "metadata": {},
   "outputs": [],
   "source": [
    "f, axs = plt.subplots(2,2,figsize=(20,20))\n",
    "extent = [-1,1,-1,1]\n",
    "\n",
    "plt.subplot(2,2,1)\n",
    "plt.imshow(q_90,extent=extent)\n",
    "plt.colorbar()\n",
    "plt.title('90 degree tracking error',fontsize=24)\n",
    "plt.xlabel('a1')\n",
    "plt.ylabel('a2')\n",
    "\n",
    "plt.subplot(2,2,2)\n",
    "plt.imshow(q_60,extent=extent)\n",
    "plt.colorbar()\n",
    "plt.title('60 degree tracking error',fontsize=24)\n",
    "plt.xlabel('a1')\n",
    "plt.ylabel('a2')\n",
    "\n",
    "plt.subplot(2,2,3)\n",
    "plt.imshow(q_30,extent=extent)\n",
    "plt.colorbar()\n",
    "plt.title('30 degree tracking error',fontsize=24)\n",
    "plt.xlabel('a1')\n",
    "plt.ylabel('a2')\n",
    "\n",
    "plt.subplot(2,2,4)\n",
    "plt.imshow(q_0,extent=extent)\n",
    "plt.colorbar()\n",
    "plt.title('0 degree tracking error',fontsize=24)\n",
    "plt.xlabel('a1')\n",
    "plt.ylabel('a2')\n",
    "\n",
    "plt.show()"
   ]
  },
  {
   "cell_type": "code",
   "execution_count": null,
   "metadata": {},
   "outputs": [],
   "source": []
  },
  {
   "cell_type": "code",
   "execution_count": null,
   "metadata": {},
   "outputs": [],
   "source": []
  },
  {
   "cell_type": "code",
   "execution_count": null,
   "metadata": {},
   "outputs": [],
   "source": [
    "agent_path = 'ddpg_p005_gamma095'\n",
    "path = agent_path + '/pyt_save/model.pt'\n",
    "ac = torch.load(path)"
   ]
  },
  {
   "cell_type": "code",
   "execution_count": null,
   "metadata": {},
   "outputs": [],
   "source": [
    "gamma = 0.95\n",
    "te = np.arange(-np.pi,np.pi,0.01)\n",
    "e = np.zeros([len(te),1])\n",
    "qs = np.zeros([len(te),1])\n",
    "ys = np.zeros([len(te),1])\n",
    "for i in range(len(te)):\n",
    "    o = torch.as_tensor(env.reset([te[i],0,0,0,0,0,200/60*2*np.pi]), dtype=torch.float32)\n",
    "    a = ac.pi(o)\n",
    "    q = ac.q(o,a).detach().numpy()\n",
    "    o2, r, _, _ = env.step(a.detach().numpy())\n",
    "    o2 = torch.as_tensor(o2, dtype=torch.float32)\n",
    "    a2 = ac.pi(o2)\n",
    "    q2 = ac.q(o2,a2).detach().numpy()\n",
    "    y = r + gamma*q2\n",
    "    e[i] = q - y\n",
    "    qs[i] = q\n",
    "    ys[i] = y\n",
    "plt.scatter(te, qs)\n",
    "# plt.plot(ys)\n",
    "# plt.scatter(te, e)"
   ]
  },
  {
   "cell_type": "code",
   "execution_count": null,
   "metadata": {},
   "outputs": [],
   "source": [
    "env.reset([np.pi*1/2,0,np.pi*1/2,0,0,0,200/60*2*np.pi])\n",
    "o_90 = torch.as_tensor(env.observation, dtype=torch.float32)\n",
    "env.reset([np.pi*1/3,0,np.pi*1/3,0,0,0,200/60*2*np.pi])\n",
    "o_60 = torch.as_tensor(env.observation, dtype=torch.float32)\n",
    "env.reset([np.pi*1/6,0,np.pi*1/6,0,0,0,200/60*2*np.pi])\n",
    "o_30 = torch.as_tensor(env.observation, dtype=torch.float32)\n",
    "env.reset([0,0,0,0,0,0,200/60*2*np.pi])\n",
    "o_0 = torch.as_tensor(env.observation, dtype=torch.float32)\n",
    "\n",
    "x = np.arange(-1,1,0.01)\n",
    "y = np.arange(-1,1,0.01)\n",
    "X, Y = np.meshgrid(x, y)\n",
    "\n",
    "q_90 = np.zeros([x.shape[0],y.shape[0]])\n",
    "q_60 = np.zeros([x.shape[0],y.shape[0]])\n",
    "q_30 = np.zeros([x.shape[0],y.shape[0]])\n",
    "q_0 = np.zeros([x.shape[0],y.shape[0]])\n",
    "\n",
    "for i in range(x.shape[0]):\n",
    "    for j in range(y.shape[0]):\n",
    "        a = torch.as_tensor([x[i], y[j]], dtype=torch.float32)\n",
    "        q_90[i][j] = ac.q(o_90, a).detach().numpy()\n",
    "        q_60[i][j] = ac.q(o_60, a).detach().numpy()\n",
    "        q_30[i][j] = ac.q(o_30, a).detach().numpy()\n",
    "        q_0[i][j] = ac.q(o_0, a).detach().numpy()"
   ]
  },
  {
   "cell_type": "code",
   "execution_count": null,
   "metadata": {},
   "outputs": [],
   "source": [
    "f, axs = plt.subplots(2,2,figsize=(20,20))\n",
    "extent = [-1,1,-1,1]\n",
    "\n",
    "plt.subplot(2,2,1)\n",
    "plt.imshow(q_90,extent=extent)\n",
    "plt.colorbar()\n",
    "plt.title('90 degree tracking error',fontsize=24)\n",
    "plt.xlabel('a1')\n",
    "plt.ylabel('a2')\n",
    "\n",
    "plt.subplot(2,2,2)\n",
    "plt.imshow(q_60,extent=extent)\n",
    "plt.colorbar()\n",
    "plt.title('60 degree tracking error',fontsize=24)\n",
    "plt.xlabel('a1')\n",
    "plt.ylabel('a2')\n",
    "\n",
    "plt.subplot(2,2,3)\n",
    "plt.imshow(q_30,extent=extent)\n",
    "plt.colorbar()\n",
    "plt.title('30 degree tracking error',fontsize=24)\n",
    "plt.xlabel('a1')\n",
    "plt.ylabel('a2')\n",
    "\n",
    "plt.subplot(2,2,4)\n",
    "plt.imshow(q_0,extent=extent)\n",
    "plt.colorbar()\n",
    "plt.title('0 degree tracking error',fontsize=24)\n",
    "plt.xlabel('a1')\n",
    "plt.ylabel('a2')\n",
    "\n",
    "plt.show()"
   ]
  },
  {
   "cell_type": "code",
   "execution_count": null,
   "metadata": {
    "pycharm": {
     "name": "#%%\n"
    }
   },
   "outputs": [],
   "source": []
  },
  {
   "cell_type": "code",
   "execution_count": null,
   "metadata": {
    "pycharm": {
     "name": "#%%\n"
    }
   },
   "outputs": [],
   "source": []
  }
 ],
 "metadata": {
  "accelerator": "GPU",
  "colab": {
   "collapsed_sections": [],
   "name": "gyroscope_ddpg_testing.ipynb",
   "provenance": []
  },
  "kernelspec": {
   "display_name": "Python 3",
   "language": "python",
   "name": "python3"
  },
  "language_info": {
   "codemirror_mode": {
    "name": "ipython",
    "version": 3
   },
   "file_extension": ".py",
   "mimetype": "text/x-python",
   "name": "python",
   "nbconvert_exporter": "python",
   "pygments_lexer": "ipython3",
   "version": "3.6.13"
  }
 },
 "nbformat": 4,
 "nbformat_minor": 4
}
