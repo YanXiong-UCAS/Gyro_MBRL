{
 "cells": [
  {
   "cell_type": "markdown",
   "metadata": {
    "colab_type": "text",
    "id": "x83dMPapQBN6"
   },
   "source": [
    "# Soft Actor-Critic (SAC)\n",
    "\n",
    "# Model training with quadratic, exponential, and other reward functions on Env-v1"
   ]
  },
  {
   "cell_type": "code",
   "execution_count": 1,
   "metadata": {},
   "outputs": [],
   "source": [
    "# trained in reward_training.py"
   ]
  },
  {
   "cell_type": "code",
   "execution_count": 2,
   "metadata": {
    "colab": {},
    "colab_type": "code",
    "id": "fuJhdd479TpP"
   },
   "outputs": [
    {
     "name": "stderr",
     "output_type": "stream",
     "text": [
      "In /home/xiongyan/anaconda3/envs/spinningup/lib/python3.6/site-packages/matplotlib/mpl-data/stylelib/_classic_test.mplstyle: \n",
      "The text.latex.preview rcparam was deprecated in Matplotlib 3.3 and will be removed two minor releases later.\n",
      "In /home/xiongyan/anaconda3/envs/spinningup/lib/python3.6/site-packages/matplotlib/mpl-data/stylelib/_classic_test.mplstyle: \n",
      "The mathtext.fallback_to_cm rcparam was deprecated in Matplotlib 3.3 and will be removed two minor releases later.\n",
      "In /home/xiongyan/anaconda3/envs/spinningup/lib/python3.6/site-packages/matplotlib/mpl-data/stylelib/_classic_test.mplstyle: Support for setting the 'mathtext.fallback_to_cm' rcParam is deprecated since 3.3 and will be removed two minor releases later; use 'mathtext.fallback : 'cm' instead.\n",
      "In /home/xiongyan/anaconda3/envs/spinningup/lib/python3.6/site-packages/matplotlib/mpl-data/stylelib/_classic_test.mplstyle: \n",
      "The validate_bool_maybe_none function was deprecated in Matplotlib 3.3 and will be removed two minor releases later.\n",
      "In /home/xiongyan/anaconda3/envs/spinningup/lib/python3.6/site-packages/matplotlib/mpl-data/stylelib/_classic_test.mplstyle: \n",
      "The savefig.jpeg_quality rcparam was deprecated in Matplotlib 3.3 and will be removed two minor releases later.\n",
      "In /home/xiongyan/anaconda3/envs/spinningup/lib/python3.6/site-packages/matplotlib/mpl-data/stylelib/_classic_test.mplstyle: \n",
      "The keymap.all_axes rcparam was deprecated in Matplotlib 3.3 and will be removed two minor releases later.\n",
      "In /home/xiongyan/anaconda3/envs/spinningup/lib/python3.6/site-packages/matplotlib/mpl-data/stylelib/_classic_test.mplstyle: \n",
      "The animation.avconv_path rcparam was deprecated in Matplotlib 3.3 and will be removed two minor releases later.\n",
      "In /home/xiongyan/anaconda3/envs/spinningup/lib/python3.6/site-packages/matplotlib/mpl-data/stylelib/_classic_test.mplstyle: \n",
      "The animation.avconv_args rcparam was deprecated in Matplotlib 3.3 and will be removed two minor releases later.\n"
     ]
    }
   ],
   "source": [
    "import gym\n",
    "from gym import spaces\n",
    "from gym.utils import seeding\n",
    "import numpy as np\n",
    "from os import path\n",
    "from scipy.integrate import solve_ivp\n",
    "\n",
    "import gym_gyroscope_env\n",
    "import spinup\n",
    "import torch\n",
    "from functools import partial\n",
    "\n",
    "from custom_functions.custom_functions import env_fn \n",
    "from custom_functions.custom_functions import create_env\n",
    "from custom_functions.custom_functions import load_agent\n",
    "from custom_functions.custom_functions import test_agent\n",
    "from custom_functions.custom_functions import plot_test\n",
    "from custom_functions.custom_functions import evaluate_control"
   ]
  },
  {
   "cell_type": "markdown",
   "metadata": {
    "pycharm": {
     "name": "#%% md\n"
    }
   },
   "source": [
    "#### PE reward"
   ]
  },
  {
   "cell_type": "code",
   "execution_count": 3,
   "metadata": {
    "pycharm": {
     "name": "#%%\n"
    }
   },
   "outputs": [
    {
     "name": "stdout",
     "output_type": "stream",
     "text": [
      "Warning: Log dir td3_pe_opt_ing_new_env_100 already exists! Storing info there anyway.\n",
      "\u001B[32;1mLogging data to td3_pe_opt_ing_new_env_100/progress.txt\u001B[0m\n",
      "\u001B[36;1mSaving config:\n",
      "\u001B[0m\n",
      "{\n",
      "    \"ac_kwargs\":\t{\n",
      "        \"activation\":\t\"ReLU\",\n",
      "        \"hidden_sizes\":\t[\n",
      "            128,\n",
      "            32\n",
      "        ]\n",
      "    },\n",
      "    \"act_noise\":\t0.1,\n",
      "    \"actor_critic\":\t\"MLPActorCritic\",\n",
      "    \"batch_size\":\t100,\n",
      "    \"env_fn\":\t\"functools.partial(<function env_fn at 0x7f52a862a950>, 'GyroscopeNewEnv-v0', simu_args={'dt': 0.02, 'ep_len': 100, 'seed': 2}, reward_func='PE', reward_args={'qx1': 1, 'qx2': 0.2, 'qx3': 1, 'qx4': 0.2, 'qw': 1, 'pu1': 0.1, 'pu2': 0.1, 'pu3': 0.1, 'p': 0.1, 'e': 40})\",\n",
      "    \"epochs\":\t100,\n",
      "    \"exp_name\":\t\"td3_pe_opt_ing_20000\",\n",
      "    \"gamma\":\t0.95,\n",
      "    \"logger\":\t{\n",
      "        \"<spinup.utils.logx.EpochLogger object at 0x7f52a86384a8>\":\t{\n",
      "            \"epoch_dict\":\t{},\n",
      "            \"exp_name\":\t\"td3_pe_opt_ing_20000\",\n",
      "            \"first_row\":\ttrue,\n",
      "            \"log_current_row\":\t{},\n",
      "            \"log_headers\":\t[],\n",
      "            \"output_dir\":\t\"td3_pe_opt_ing_new_env_100\",\n",
      "            \"output_file\":\t{\n",
      "                \"<_io.TextIOWrapper name='td3_pe_opt_ing_new_env_100/progress.txt' mode='w' encoding='UTF-8'>\":\t{\n",
      "                    \"mode\":\t\"w\"\n",
      "                }\n",
      "            }\n",
      "        }\n",
      "    },\n",
      "    \"logger_kwargs\":\t{\n",
      "        \"exp_name\":\t\"td3_pe_opt_ing_20000\",\n",
      "        \"output_dir\":\t\"td3_pe_opt_ing_new_env_100\"\n",
      "    },\n",
      "    \"max_ep_len\":\t100,\n",
      "    \"noise_clip\":\t0.5,\n",
      "    \"num_test_episodes\":\t10,\n",
      "    \"pi_lr\":\t0.001,\n",
      "    \"policy_delay\":\t2,\n",
      "    \"polyak\":\t0.995,\n",
      "    \"q_lr\":\t0.001,\n",
      "    \"replay_size\":\t1000000,\n",
      "    \"save_freq\":\t1,\n",
      "    \"seed\":\t0,\n",
      "    \"start_steps\":\t10000,\n",
      "    \"steps_per_epoch\":\t1500,\n",
      "    \"target_noise\":\t0.2,\n",
      "    \"update_after\":\t1000,\n",
      "    \"update_every\":\t50\n",
      "}\n",
      "\u001B[32;1m\n",
      "Number of parameters: \t pi: 5635, \t q1: 5953, \t q2: 5953\n",
      "\u001B[0m\n"
     ]
    },
    {
     "ename": "ValueError",
     "evalue": "operands could not be broadcast together with shapes (4,) (5,) ",
     "output_type": "error",
     "traceback": [
      "\u001B[0;31m---------------------------------------------------------------------------\u001B[0m",
      "\u001B[0;31mValueError\u001B[0m                                Traceback (most recent call last)",
      "\u001B[0;32m<ipython-input-3-c2a7753c2531>\u001B[0m in \u001B[0;36m<module>\u001B[0;34m\u001B[0m\n\u001B[1;32m     42\u001B[0m                    \u001B[0mnum_test_episodes\u001B[0m\u001B[0;34m=\u001B[0m\u001B[0;36m10\u001B[0m\u001B[0;34m,\u001B[0m\u001B[0;34m\u001B[0m\u001B[0;34m\u001B[0m\u001B[0m\n\u001B[1;32m     43\u001B[0m                    \u001B[0mmax_ep_len\u001B[0m\u001B[0;34m=\u001B[0m\u001B[0;36m100\u001B[0m\u001B[0;34m,\u001B[0m   \u001B[0;31m# 不能太大，大于100不收敛\u001B[0m\u001B[0;34m\u001B[0m\u001B[0;34m\u001B[0m\u001B[0m\n\u001B[0;32m---> 44\u001B[0;31m                    \u001B[0mlogger_kwargs\u001B[0m\u001B[0;34m=\u001B[0m\u001B[0mdict\u001B[0m\u001B[0;34m(\u001B[0m\u001B[0moutput_dir\u001B[0m\u001B[0;34m=\u001B[0m\u001B[0;34m'td3_pe_opt_ing_new_env_100'\u001B[0m\u001B[0;34m,\u001B[0m \u001B[0mexp_name\u001B[0m\u001B[0;34m=\u001B[0m\u001B[0;34m'td3_pe_opt_ing_20000'\u001B[0m\u001B[0;34m)\u001B[0m\u001B[0;34m\u001B[0m\u001B[0;34m\u001B[0m\u001B[0m\n\u001B[0m\u001B[1;32m     45\u001B[0m                    )\n\u001B[1;32m     46\u001B[0m \u001B[0;34m\u001B[0m\u001B[0m\n",
      "\u001B[0;32m~/spinningup/spinup/algos/pytorch/td3/td3.py\u001B[0m in \u001B[0;36mtd3\u001B[0;34m(env_fn, actor_critic, ac_kwargs, seed, steps_per_epoch, epochs, replay_size, gamma, polyak, pi_lr, q_lr, batch_size, start_steps, update_after, update_every, act_noise, target_noise, noise_clip, policy_delay, num_test_episodes, max_ep_len, logger_kwargs, save_freq)\u001B[0m\n\u001B[1;32m    296\u001B[0m \u001B[0;34m\u001B[0m\u001B[0m\n\u001B[1;32m    297\u001B[0m         \u001B[0;31m# Step the env\u001B[0m\u001B[0;34m\u001B[0m\u001B[0;34m\u001B[0m\u001B[0;34m\u001B[0m\u001B[0m\n\u001B[0;32m--> 298\u001B[0;31m         \u001B[0mo2\u001B[0m\u001B[0;34m,\u001B[0m \u001B[0mr\u001B[0m\u001B[0;34m,\u001B[0m \u001B[0md\u001B[0m\u001B[0;34m,\u001B[0m \u001B[0m_\u001B[0m \u001B[0;34m=\u001B[0m \u001B[0menv\u001B[0m\u001B[0;34m.\u001B[0m\u001B[0mstep\u001B[0m\u001B[0;34m(\u001B[0m\u001B[0ma\u001B[0m\u001B[0;34m)\u001B[0m\u001B[0;34m\u001B[0m\u001B[0;34m\u001B[0m\u001B[0m\n\u001B[0m\u001B[1;32m    299\u001B[0m         \u001B[0mep_ret\u001B[0m \u001B[0;34m+=\u001B[0m \u001B[0mr\u001B[0m\u001B[0;34m\u001B[0m\u001B[0;34m\u001B[0m\u001B[0m\n\u001B[1;32m    300\u001B[0m         \u001B[0mep_len\u001B[0m \u001B[0;34m+=\u001B[0m \u001B[0;36m1\u001B[0m\u001B[0;34m\u001B[0m\u001B[0;34m\u001B[0m\u001B[0m\n",
      "\u001B[0;32m/media/xiongyan/Data_Repositories/Project_code/Gyro_MBRL/Gyro_MBRL/lib/gym_gyroscope_env/gym_gyroscope_env/envs/gyroscope_new_env_v0.py\u001B[0m in \u001B[0;36mstep\u001B[0;34m(self, a)\u001B[0m\n\u001B[1;32m    216\u001B[0m             \u001B[0mmethod\u001B[0m\u001B[0;34m=\u001B[0m\u001B[0;34m'RK45'\u001B[0m\u001B[0;34m,\u001B[0m\u001B[0;34m\u001B[0m\u001B[0;34m\u001B[0m\u001B[0m\n\u001B[1;32m    217\u001B[0m             \u001B[0mt_eval\u001B[0m\u001B[0;34m=\u001B[0m\u001B[0mnp\u001B[0m\u001B[0;34m.\u001B[0m\u001B[0mlinspace\u001B[0m\u001B[0;34m(\u001B[0m\u001B[0;36m0\u001B[0m\u001B[0;34m,\u001B[0m \u001B[0mself\u001B[0m\u001B[0;34m.\u001B[0m\u001B[0mdt\u001B[0m\u001B[0;34m,\u001B[0m \u001B[0mself\u001B[0m\u001B[0;34m.\u001B[0m\u001B[0meval_per_dt\u001B[0m\u001B[0;34m)\u001B[0m\u001B[0;34m,\u001B[0m  \u001B[0;31m# times at which to store the computed solution\u001B[0m\u001B[0;34m\u001B[0m\u001B[0;34m\u001B[0m\u001B[0m\n\u001B[0;32m--> 218\u001B[0;31m             \u001B[0margs\u001B[0m\u001B[0;34m=\u001B[0m\u001B[0;34m(\u001B[0m\u001B[0mu1\u001B[0m\u001B[0;34m,\u001B[0m \u001B[0mu2\u001B[0m\u001B[0;34m,\u001B[0m \u001B[0mu3\u001B[0m\u001B[0;34m)\u001B[0m   \u001B[0;31m# RL控制器对应三个电压输出值\u001B[0m\u001B[0;34m\u001B[0m\u001B[0;34m\u001B[0m\u001B[0m\n\u001B[0m\u001B[1;32m    219\u001B[0m         )\n\u001B[1;32m    220\u001B[0m \u001B[0;34m\u001B[0m\u001B[0m\n",
      "\u001B[0;32m~/anaconda3/envs/spinningup/lib/python3.6/site-packages/scipy/integrate/_ivp/ivp.py\u001B[0m in \u001B[0;36msolve_ivp\u001B[0;34m(fun, t_span, y0, method, t_eval, dense_output, events, vectorized, args, **options)\u001B[0m\n\u001B[1;32m    540\u001B[0m         \u001B[0mmethod\u001B[0m \u001B[0;34m=\u001B[0m \u001B[0mMETHODS\u001B[0m\u001B[0;34m[\u001B[0m\u001B[0mmethod\u001B[0m\u001B[0;34m]\u001B[0m\u001B[0;34m\u001B[0m\u001B[0;34m\u001B[0m\u001B[0m\n\u001B[1;32m    541\u001B[0m \u001B[0;34m\u001B[0m\u001B[0m\n\u001B[0;32m--> 542\u001B[0;31m     \u001B[0msolver\u001B[0m \u001B[0;34m=\u001B[0m \u001B[0mmethod\u001B[0m\u001B[0;34m(\u001B[0m\u001B[0mfun\u001B[0m\u001B[0;34m,\u001B[0m \u001B[0mt0\u001B[0m\u001B[0;34m,\u001B[0m \u001B[0my0\u001B[0m\u001B[0;34m,\u001B[0m \u001B[0mtf\u001B[0m\u001B[0;34m,\u001B[0m \u001B[0mvectorized\u001B[0m\u001B[0;34m=\u001B[0m\u001B[0mvectorized\u001B[0m\u001B[0;34m,\u001B[0m \u001B[0;34m**\u001B[0m\u001B[0moptions\u001B[0m\u001B[0;34m)\u001B[0m\u001B[0;34m\u001B[0m\u001B[0;34m\u001B[0m\u001B[0m\n\u001B[0m\u001B[1;32m    543\u001B[0m \u001B[0;34m\u001B[0m\u001B[0m\n\u001B[1;32m    544\u001B[0m     \u001B[0;32mif\u001B[0m \u001B[0mt_eval\u001B[0m \u001B[0;32mis\u001B[0m \u001B[0;32mNone\u001B[0m\u001B[0;34m:\u001B[0m\u001B[0;34m\u001B[0m\u001B[0;34m\u001B[0m\u001B[0m\n",
      "\u001B[0;32m~/anaconda3/envs/spinningup/lib/python3.6/site-packages/scipy/integrate/_ivp/rk.py\u001B[0m in \u001B[0;36m__init__\u001B[0;34m(self, fun, t0, y0, t_bound, max_step, rtol, atol, vectorized, first_step, **extraneous)\u001B[0m\n\u001B[1;32m     96\u001B[0m             self.h_abs = select_initial_step(\n\u001B[1;32m     97\u001B[0m                 \u001B[0mself\u001B[0m\u001B[0;34m.\u001B[0m\u001B[0mfun\u001B[0m\u001B[0;34m,\u001B[0m \u001B[0mself\u001B[0m\u001B[0;34m.\u001B[0m\u001B[0mt\u001B[0m\u001B[0;34m,\u001B[0m \u001B[0mself\u001B[0m\u001B[0;34m.\u001B[0m\u001B[0my\u001B[0m\u001B[0;34m,\u001B[0m \u001B[0mself\u001B[0m\u001B[0;34m.\u001B[0m\u001B[0mf\u001B[0m\u001B[0;34m,\u001B[0m \u001B[0mself\u001B[0m\u001B[0;34m.\u001B[0m\u001B[0mdirection\u001B[0m\u001B[0;34m,\u001B[0m\u001B[0;34m\u001B[0m\u001B[0;34m\u001B[0m\u001B[0m\n\u001B[0;32m---> 98\u001B[0;31m                 self.error_estimator_order, self.rtol, self.atol)\n\u001B[0m\u001B[1;32m     99\u001B[0m         \u001B[0;32melse\u001B[0m\u001B[0;34m:\u001B[0m\u001B[0;34m\u001B[0m\u001B[0;34m\u001B[0m\u001B[0m\n\u001B[1;32m    100\u001B[0m             \u001B[0mself\u001B[0m\u001B[0;34m.\u001B[0m\u001B[0mh_abs\u001B[0m \u001B[0;34m=\u001B[0m \u001B[0mvalidate_first_step\u001B[0m\u001B[0;34m(\u001B[0m\u001B[0mfirst_step\u001B[0m\u001B[0;34m,\u001B[0m \u001B[0mt0\u001B[0m\u001B[0;34m,\u001B[0m \u001B[0mt_bound\u001B[0m\u001B[0;34m)\u001B[0m\u001B[0;34m\u001B[0m\u001B[0;34m\u001B[0m\u001B[0m\n",
      "\u001B[0;32m~/anaconda3/envs/spinningup/lib/python3.6/site-packages/scipy/integrate/_ivp/common.py\u001B[0m in \u001B[0;36mselect_initial_step\u001B[0;34m(fun, t0, y0, f0, direction, order, rtol, atol)\u001B[0m\n\u001B[1;32m    102\u001B[0m     \u001B[0mscale\u001B[0m \u001B[0;34m=\u001B[0m \u001B[0matol\u001B[0m \u001B[0;34m+\u001B[0m \u001B[0mnp\u001B[0m\u001B[0;34m.\u001B[0m\u001B[0mabs\u001B[0m\u001B[0;34m(\u001B[0m\u001B[0my0\u001B[0m\u001B[0;34m)\u001B[0m \u001B[0;34m*\u001B[0m \u001B[0mrtol\u001B[0m\u001B[0;34m\u001B[0m\u001B[0;34m\u001B[0m\u001B[0m\n\u001B[1;32m    103\u001B[0m     \u001B[0md0\u001B[0m \u001B[0;34m=\u001B[0m \u001B[0mnorm\u001B[0m\u001B[0;34m(\u001B[0m\u001B[0my0\u001B[0m \u001B[0;34m/\u001B[0m \u001B[0mscale\u001B[0m\u001B[0;34m)\u001B[0m\u001B[0;34m\u001B[0m\u001B[0;34m\u001B[0m\u001B[0m\n\u001B[0;32m--> 104\u001B[0;31m     \u001B[0md1\u001B[0m \u001B[0;34m=\u001B[0m \u001B[0mnorm\u001B[0m\u001B[0;34m(\u001B[0m\u001B[0mf0\u001B[0m \u001B[0;34m/\u001B[0m \u001B[0mscale\u001B[0m\u001B[0;34m)\u001B[0m\u001B[0;34m\u001B[0m\u001B[0;34m\u001B[0m\u001B[0m\n\u001B[0m\u001B[1;32m    105\u001B[0m     \u001B[0;32mif\u001B[0m \u001B[0md0\u001B[0m \u001B[0;34m<\u001B[0m \u001B[0;36m1e-5\u001B[0m \u001B[0;32mor\u001B[0m \u001B[0md1\u001B[0m \u001B[0;34m<\u001B[0m \u001B[0;36m1e-5\u001B[0m\u001B[0;34m:\u001B[0m\u001B[0;34m\u001B[0m\u001B[0;34m\u001B[0m\u001B[0m\n\u001B[1;32m    106\u001B[0m         \u001B[0mh0\u001B[0m \u001B[0;34m=\u001B[0m \u001B[0;36m1e-6\u001B[0m\u001B[0;34m\u001B[0m\u001B[0;34m\u001B[0m\u001B[0m\n",
      "\u001B[0;31mValueError\u001B[0m: operands could not be broadcast together with shapes (4,) (5,) "
     ]
    }
   ],
   "source": [
    "# Env function\n",
    "env_name = 'GyroscopeNewEnv-v0'\n",
    "simu_args = {\n",
    "    'dt': 0.02,\n",
    "    'ep_len': 100,\n",
    "    'seed': 2\n",
    "}\n",
    "reward_func = 'PE'\n",
    "reward_args = {\n",
    "    'qx1': 1,\n",
    "    'qx2': 0.2,\n",
    "    'qx3': 1,\n",
    "    'qx4': 0.2,\n",
    "    'qw': 1,\n",
    "    'pu1': 0.1,\n",
    "    'pu2': 0.1,\n",
    "    'pu3': 0.1,\n",
    "    'p': 0.1,\n",
    "    'e': 40\n",
    "}\n",
    "env_fn_ = partial(env_fn, env_name, simu_args = simu_args, reward_func = reward_func, reward_args = reward_args)\n",
    "\n",
    "# Baseline 0 training\n",
    "spinup.td3_pytorch(env_fn_,\n",
    "                   ac_kwargs= dict(hidden_sizes=[128,32], activation=torch.nn.ReLU),\n",
    "                   seed=0,\n",
    "                   steps_per_epoch=1500,\n",
    "                   epochs=100,\n",
    "                   replay_size=1000000,\n",
    "                   gamma=0.95,\n",
    "                   polyak=0.995,\n",
    "                   pi_lr=1e-3,\n",
    "                   q_lr=1e-3,\n",
    "                   batch_size=100,\n",
    "                   start_steps=10000,\n",
    "                   update_after=1000,\n",
    "                   update_every=50,\n",
    "                   act_noise=0.1,\n",
    "                   target_noise=0.2,\n",
    "                   noise_clip=0.5,\n",
    "                   policy_delay=2,\n",
    "                   num_test_episodes=10,\n",
    "                   max_ep_len=100,   # 不能太大，大于100不收敛\n",
    "                   logger_kwargs=dict(output_dir='td3_pe_opt_ing_new_env_100', exp_name='td3_pe_opt_ing_20000')\n",
    "                   )"
   ]
  },
  {
   "cell_type": "code",
   "execution_count": null,
   "metadata": {
    "pycharm": {
     "name": "#%%\n"
    }
   },
   "outputs": [],
   "source": []
  },
  {
   "cell_type": "code",
   "execution_count": null,
   "outputs": [],
   "source": [],
   "metadata": {
    "collapsed": false,
    "pycharm": {
     "name": "#%%\n"
    }
   }
  }
 ],
 "metadata": {
  "accelerator": "GPU",
  "colab": {
   "collapsed_sections": [],
   "name": "gyroscope_ddpg_testing.ipynb",
   "provenance": []
  },
  "kernelspec": {
   "display_name": "Python 3",
   "language": "python",
   "name": "python3"
  },
  "language_info": {
   "codemirror_mode": {
    "name": "ipython",
    "version": 3
   },
   "file_extension": ".py",
   "mimetype": "text/x-python",
   "name": "python",
   "nbconvert_exporter": "python",
   "pygments_lexer": "ipython3",
   "version": "3.6.13"
  }
 },
 "nbformat": 4,
 "nbformat_minor": 4
}